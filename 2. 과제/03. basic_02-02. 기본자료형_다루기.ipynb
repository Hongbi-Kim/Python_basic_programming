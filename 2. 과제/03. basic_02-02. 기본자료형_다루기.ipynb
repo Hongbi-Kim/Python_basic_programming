{
 "cells": [
  {
   "cell_type": "markdown",
   "id": "d43bdd19",
   "metadata": {},
   "source": [
    "# 변수 만들기"
   ]
  },
  {
   "cell_type": "markdown",
   "id": "9f0b1bcd",
   "metadata": {},
   "source": [
    "## 변수에 값 할당하기\n",
    "- 변수명 = 변수값\n",
    "- 변수에 값이 할당될 때 변수값의 자료형에 따라 변수의 자료형이 결정된다."
   ]
  },
  {
   "cell_type": "code",
   "execution_count": 1,
   "id": "fe2e3dc1",
   "metadata": {},
   "outputs": [],
   "source": [
    "name = 'james'\n",
    "age = 20\n",
    "height = 175.0\n",
    "ischild = age < 20"
   ]
  },
  {
   "cell_type": "markdown",
   "id": "adfcaf4a",
   "metadata": {},
   "source": [
    "## 변수 값, 자료형 출력하기\n",
    "- 변수에 접근할 때는 변수명을 사용한다.\n",
    "- 변수값 출력 : print(변수명)\n",
    "- 변수자료형 출력 : print(type(변수명))"
   ]
  },
  {
   "cell_type": "code",
   "execution_count": 2,
   "id": "1f304000",
   "metadata": {},
   "outputs": [
    {
     "name": "stdout",
     "output_type": "stream",
     "text": [
      "james\n",
      "<class 'str'>\n"
     ]
    }
   ],
   "source": [
    "print(name)\n",
    "print(type(name))"
   ]
  },
  {
   "cell_type": "code",
   "execution_count": 3,
   "id": "a42ff217",
   "metadata": {},
   "outputs": [
    {
     "name": "stdout",
     "output_type": "stream",
     "text": [
      "20\n",
      "<class 'int'>\n"
     ]
    }
   ],
   "source": [
    "print(age)\n",
    "print(type(age))"
   ]
  },
  {
   "cell_type": "code",
   "execution_count": 4,
   "id": "7f75c006",
   "metadata": {},
   "outputs": [
    {
     "name": "stdout",
     "output_type": "stream",
     "text": [
      "175.0\n",
      "<class 'float'>\n"
     ]
    }
   ],
   "source": [
    "print(height)\n",
    "print(type(height))"
   ]
  },
  {
   "cell_type": "code",
   "execution_count": 5,
   "id": "b9a2c9bb",
   "metadata": {},
   "outputs": [
    {
     "name": "stdout",
     "output_type": "stream",
     "text": [
      "False\n",
      "<class 'bool'>\n"
     ]
    }
   ],
   "source": [
    "print(ischild)\n",
    "print(type(ischild))"
   ]
  },
  {
   "cell_type": "markdown",
   "id": "d7385137",
   "metadata": {},
   "source": [
    "## 쌍따옴표나 홑따옴표가 포함되어 있는 문자열 사용하기\n",
    "- 홑따옴표가 포함되어 있는 문자열 사용하기 \\\n",
    "'낮말'은 새가 듣고 '밤말'은 쥐가 듣는다."
   ]
  },
  {
   "cell_type": "code",
   "execution_count": 6,
   "id": "1d9a34e8",
   "metadata": {},
   "outputs": [
    {
     "name": "stdout",
     "output_type": "stream",
     "text": [
      "'낮말'은 새가 듣고 '밤말'은 쥐가 듣는다.\n"
     ]
    }
   ],
   "source": [
    "a = \"'낮말'은 새가 듣고 '밤말'은 쥐가 듣는다.\"\n",
    "print(a)"
   ]
  },
  {
   "cell_type": "code",
   "execution_count": 7,
   "id": "c65128d7",
   "metadata": {},
   "outputs": [
    {
     "name": "stdout",
     "output_type": "stream",
     "text": [
      "\"시간은 금\"이라는 말이 있다.\n"
     ]
    }
   ],
   "source": [
    "b = '\"시간은 금\"이라는 말이 있다.'\n",
    "print(b)"
   ]
  },
  {
   "cell_type": "markdown",
   "id": "536d10ee",
   "metadata": {},
   "source": [
    "## 키보드로 변수에 값 입력받기\n",
    "- input( )\n",
    "- input으로 입력받은 값은 무조건 str"
   ]
  },
  {
   "cell_type": "code",
   "execution_count": 8,
   "id": "ad395ae6",
   "metadata": {},
   "outputs": [
    {
     "name": "stdout",
     "output_type": "stream",
     "text": [
      "나이 : 20\n"
     ]
    }
   ],
   "source": [
    "a = input('나이 : ')"
   ]
  },
  {
   "cell_type": "code",
   "execution_count": 9,
   "id": "6b0f6a9c",
   "metadata": {},
   "outputs": [
    {
     "data": {
      "text/plain": [
       "str"
      ]
     },
     "execution_count": 9,
     "metadata": {},
     "output_type": "execute_result"
    }
   ],
   "source": [
    "type(a)"
   ]
  },
  {
   "cell_type": "markdown",
   "id": "a017dbc7",
   "metadata": {},
   "source": [
    "## 자료형 변환하기\n",
    "- int(value) : int형으로 변환"
   ]
  },
  {
   "cell_type": "code",
   "execution_count": 10,
   "id": "5e91b6d8",
   "metadata": {},
   "outputs": [
    {
     "data": {
      "text/plain": [
       "int"
      ]
     },
     "execution_count": 10,
     "metadata": {},
     "output_type": "execute_result"
    }
   ],
   "source": [
    "age = int('20')\n",
    "type(age)"
   ]
  },
  {
   "cell_type": "markdown",
   "id": "d2ffd592",
   "metadata": {},
   "source": [
    "- str(value) : str형으로 변환"
   ]
  },
  {
   "cell_type": "code",
   "execution_count": 11,
   "id": "21630350",
   "metadata": {},
   "outputs": [
    {
     "data": {
      "text/plain": [
       "str"
      ]
     },
     "execution_count": 11,
     "metadata": {},
     "output_type": "execute_result"
    }
   ],
   "source": [
    "age = str(20)\n",
    "type(age)"
   ]
  },
  {
   "cell_type": "markdown",
   "id": "c11b8990",
   "metadata": {},
   "source": [
    "- float(value) : float형으로 변환"
   ]
  },
  {
   "cell_type": "code",
   "execution_count": 12,
   "id": "4b203508",
   "metadata": {},
   "outputs": [
    {
     "name": "stdout",
     "output_type": "stream",
     "text": [
      "20.0 <class 'float'>\n"
     ]
    }
   ],
   "source": [
    "age = float(20)\n",
    "print(age, type(age))"
   ]
  },
  {
   "cell_type": "markdown",
   "id": "98206f8f",
   "metadata": {},
   "source": [
    "- input으로 입력받은 값을 숫자형으로 변환하여 사용하기"
   ]
  },
  {
   "cell_type": "code",
   "execution_count": 13,
   "id": "891bac57",
   "metadata": {},
   "outputs": [
    {
     "name": "stdout",
     "output_type": "stream",
     "text": [
      "나이 : 20\n"
     ]
    }
   ],
   "source": [
    "a = int(input('나이 : '))"
   ]
  },
  {
   "cell_type": "code",
   "execution_count": 14,
   "id": "2a478901",
   "metadata": {},
   "outputs": [
    {
     "data": {
      "text/plain": [
       "int"
      ]
     },
     "execution_count": 14,
     "metadata": {},
     "output_type": "execute_result"
    }
   ],
   "source": [
    "type(a)"
   ]
  }
 ],
 "metadata": {
  "kernelspec": {
   "display_name": "Python 3",
   "language": "python",
   "name": "python3"
  },
  "language_info": {
   "codemirror_mode": {
    "name": "ipython",
    "version": 3
   },
   "file_extension": ".py",
   "mimetype": "text/x-python",
   "name": "python",
   "nbconvert_exporter": "python",
   "pygments_lexer": "ipython3",
   "version": "3.8.8"
  }
 },
 "nbformat": 4,
 "nbformat_minor": 5
}
