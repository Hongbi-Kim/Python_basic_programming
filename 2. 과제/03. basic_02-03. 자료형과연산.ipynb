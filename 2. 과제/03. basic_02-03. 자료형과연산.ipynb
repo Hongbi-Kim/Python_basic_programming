{
 "cells": [
  {
   "cell_type": "markdown",
   "id": "8e238a21",
   "metadata": {},
   "source": [
    "## 산술연산"
   ]
  },
  {
   "cell_type": "code",
   "execution_count": 2,
   "id": "0b0cbc96",
   "metadata": {},
   "outputs": [
    {
     "name": "stdout",
     "output_type": "stream",
     "text": [
      "a + b = 7\n",
      "a - b = -1\n",
      "a * b = 12\n",
      "a / b = 0.75\n",
      "a // b = 0\n",
      "a % b = 3\n",
      "a ** b = 81\n"
     ]
    }
   ],
   "source": [
    "a, b = 3,4\n",
    "\n",
    "print('a + b =',a+b)\n",
    "print('a - b =',a-b)\n",
    "print('a * b =',a*b)\n",
    "print('a / b =',a/b)    \n",
    "print('a // b =',a//b)  # 몫\n",
    "print('a % b =',a%b)    # 나머지\n",
    "print('a ** b =',a**b)"
   ]
  },
  {
   "cell_type": "markdown",
   "id": "ba936153",
   "metadata": {},
   "source": [
    "## 문자열 연산"
   ]
  },
  {
   "cell_type": "code",
   "execution_count": 3,
   "id": "f8d0c33d",
   "metadata": {},
   "outputs": [
    {
     "data": {
      "text/plain": [
       "'goodmorning'"
      ]
     },
     "execution_count": 3,
     "metadata": {},
     "output_type": "execute_result"
    }
   ],
   "source": [
    "# 문자열 더하기(문자열 연결하기)\n",
    "a = 'good'\n",
    "b = 'morning'\n",
    "a + b"
   ]
  },
  {
   "cell_type": "code",
   "execution_count": 4,
   "id": "6f9200a5",
   "metadata": {},
   "outputs": [
    {
     "data": {
      "text/plain": [
       "'hahaha'"
      ]
     },
     "execution_count": 4,
     "metadata": {},
     "output_type": "execute_result"
    }
   ],
   "source": [
    "# 문자열 곱하기(문자열 반복하기) \n",
    "s = 'ha'\n",
    "s * 3"
   ]
  },
  {
   "cell_type": "code",
   "execution_count": 5,
   "id": "c93c3757",
   "metadata": {},
   "outputs": [
    {
     "name": "stdout",
     "output_type": "stream",
     "text": [
      "영어점수80\n"
     ]
    }
   ],
   "source": [
    "# 문자열과 숫자형 더하기\n",
    "english = 80\n",
    "result = '영어점수'+ str(english)\n",
    "print(result)"
   ]
  },
  {
   "cell_type": "markdown",
   "id": "b799d12f",
   "metadata": {},
   "source": [
    "## 할당 연산자"
   ]
  },
  {
   "cell_type": "code",
   "execution_count": 6,
   "id": "869e5089",
   "metadata": {},
   "outputs": [],
   "source": [
    "a = 1"
   ]
  },
  {
   "cell_type": "code",
   "execution_count": 7,
   "id": "f565d73e",
   "metadata": {},
   "outputs": [
    {
     "name": "stdout",
     "output_type": "stream",
     "text": [
      "1 1 1\n"
     ]
    }
   ],
   "source": [
    "# a, b, c에 모두 1할당\n",
    "a = b = c = 1\n",
    "print(a,b,c)"
   ]
  },
  {
   "cell_type": "code",
   "execution_count": 8,
   "id": "cbd60480",
   "metadata": {},
   "outputs": [
    {
     "name": "stdout",
     "output_type": "stream",
     "text": [
      "1 2 3\n"
     ]
    }
   ],
   "source": [
    "# a, b, c에 각각 1, 2, 3 할당\n",
    "a,b,c = 1,2,3\n",
    "print(a,b,c)"
   ]
  },
  {
   "cell_type": "markdown",
   "id": "fd9666f9",
   "metadata": {},
   "source": [
    "## 복합 할당 연산자"
   ]
  },
  {
   "cell_type": "code",
   "execution_count": 9,
   "id": "6f97369a",
   "metadata": {},
   "outputs": [
    {
     "name": "stdout",
     "output_type": "stream",
     "text": [
      "30\n"
     ]
    }
   ],
   "source": [
    "x = 10\n",
    "x += 20  # x = (x + 20) = (10 + 20) = 30\n",
    "print(x)"
   ]
  },
  {
   "cell_type": "code",
   "execution_count": 10,
   "id": "da893abc",
   "metadata": {},
   "outputs": [
    {
     "name": "stdout",
     "output_type": "stream",
     "text": [
      "24\n"
     ]
    }
   ],
   "source": [
    "x = 3\n",
    "y = 5\n",
    "x *= x+y   # x = x * (x + y) = 3 * (3 + 5) = 24\n",
    "print(x)"
   ]
  },
  {
   "cell_type": "markdown",
   "id": "df8ebfc0",
   "metadata": {},
   "source": [
    "## f스트링으로 출력하기"
   ]
  },
  {
   "cell_type": "code",
   "execution_count": 11,
   "id": "12e74b64",
   "metadata": {},
   "outputs": [
    {
     "name": "stdout",
     "output_type": "stream",
     "text": [
      "이름:김홍비\n",
      "김홍비 님, 안녕하세요?\n"
     ]
    }
   ],
   "source": [
    "name = input('이름:')\n",
    "print(name,'님, 안녕하세요?')"
   ]
  },
  {
   "cell_type": "code",
   "execution_count": 12,
   "id": "ae5699e1",
   "metadata": {},
   "outputs": [
    {
     "name": "stdout",
     "output_type": "stream",
     "text": [
      "김홍비님 안녕하세요\n"
     ]
    }
   ],
   "source": [
    "print(f'{name}님 안녕하세요')"
   ]
  },
  {
   "cell_type": "code",
   "execution_count": 13,
   "id": "5c8c43d6",
   "metadata": {},
   "outputs": [
    {
     "name": "stdout",
     "output_type": "stream",
     "text": [
      "나이:25\n",
      "나이는 25 살이시군요. 내년이면 26 살이 되시겠네요\n"
     ]
    }
   ],
   "source": [
    "age = int(input('나이:'))\n",
    "print('나이는', age, '살이시군요. 내년이면', age + 1, '살이 되시겠네요')"
   ]
  },
  {
   "cell_type": "code",
   "execution_count": 14,
   "id": "5260acf9",
   "metadata": {},
   "outputs": [
    {
     "name": "stdout",
     "output_type": "stream",
     "text": [
      "나이는 25살이시군요. 내년이면 26살이 되시겠네요\n"
     ]
    }
   ],
   "source": [
    "print(f'나이는 {age}살이시군요. 내년이면 {age+1}살이 되시겠네요')"
   ]
  },
  {
   "cell_type": "markdown",
   "id": "7e32bb61",
   "metadata": {},
   "source": [
    "- 두 수를 입력받아 더하는 프로그램을 작성하기"
   ]
  },
  {
   "cell_type": "code",
   "execution_count": 15,
   "id": "23fa1351",
   "metadata": {},
   "outputs": [
    {
     "name": "stdout",
     "output_type": "stream",
     "text": [
      "첫번째숫자 : 1\n",
      "두번째숫자 : 2\n",
      "1 + 2 = 3\n"
     ]
    }
   ],
   "source": [
    "a = int(input('첫번째숫자 : '))\n",
    "b = int(input('두번째숫자 : '))\n",
    "\n",
    "print(a,'+',b,'=',a+b)"
   ]
  },
  {
   "cell_type": "code",
   "execution_count": 17,
   "id": "7bcf2338",
   "metadata": {},
   "outputs": [
    {
     "name": "stdout",
     "output_type": "stream",
     "text": [
      "1 + 2 = 3\n"
     ]
    }
   ],
   "source": [
    "print(f'{a} + {b} = {a+b}')"
   ]
  },
  {
   "cell_type": "markdown",
   "id": "676e45cd",
   "metadata": {},
   "source": [
    "## 연습문제\n",
    "- 화씨 온도를 입력받아 섭씨 온도로 변환하는 프로그램을 작성해보세요. \\\n",
    "  C = (F - 32) * (5 / 9)"
   ]
  },
  {
   "cell_type": "code",
   "execution_count": 18,
   "id": "90e9217b",
   "metadata": {},
   "outputs": [
    {
     "name": "stdout",
     "output_type": "stream",
     "text": [
      "화씨온도:100\n",
      "화씨온도:100.0 --> 섭씨온도:37.77777777777778\n"
     ]
    }
   ],
   "source": [
    "# 화씨온도 입력\n",
    "f = float(input('화씨온도:'))\n",
    "\n",
    "# 섭씨온도로 계산\n",
    "c = (f - 32) * (5/9)\n",
    "\n",
    "# 결과 출력\n",
    "print(f'화씨온도:{f} --> 섭씨온도:{c}')"
   ]
  },
  {
   "cell_type": "code",
   "execution_count": null,
   "id": "8502863a",
   "metadata": {},
   "outputs": [],
   "source": []
  }
 ],
 "metadata": {
  "kernelspec": {
   "display_name": "Python 3",
   "language": "python",
   "name": "python3"
  },
  "language_info": {
   "codemirror_mode": {
    "name": "ipython",
    "version": 3
   },
   "file_extension": ".py",
   "mimetype": "text/x-python",
   "name": "python",
   "nbconvert_exporter": "python",
   "pygments_lexer": "ipython3",
   "version": "3.8.8"
  }
 },
 "nbformat": 4,
 "nbformat_minor": 5
}
