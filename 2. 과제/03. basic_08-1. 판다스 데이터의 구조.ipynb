{
 "cells": [
  {
   "cell_type": "markdown",
   "id": "f573cdaf",
   "metadata": {},
   "source": [
    "# Pandas 라이브러리 import\n",
    "* pandas는 외부 패키지이지만 아나콘다에 기본적으로 설치되어 제공되기 때문에 별도 설치할 필요가 없다.\n",
    "* pandas는 관용적으로 pd라는 별칭을 사용한다."
   ]
  },
  {
   "cell_type": "code",
   "execution_count": 1,
   "id": "0ed4f152",
   "metadata": {},
   "outputs": [],
   "source": [
    "import pandas as pd"
   ]
  },
  {
   "cell_type": "markdown",
   "id": "b8e81d58",
   "metadata": {},
   "source": [
    "# 데이터프레임 만들기\n",
    "* 데이터프레임 : 엑셀의 시트(sheet)와 동일한 개념이다. (2차원 표 형태)"
   ]
  },
  {
   "cell_type": "markdown",
   "id": "00ae45ea",
   "metadata": {},
   "source": [
    "## 리스트로 만들기\n",
    "* pd.DataFrame(2차원리스트, columns=컬럼리스트, index=인덱스리스트)\n",
    "* 행 단위로 데이터프레임이 생성된다.\n",
    "* 컬럼, 인덱스를 지정하지 않으면 디폴트로 0부터 시작하는 숫자가 지정된다."
   ]
  },
  {
   "cell_type": "code",
   "execution_count": 5,
   "id": "44a25092",
   "metadata": {
    "scrolled": true
   },
   "outputs": [
    {
     "data": {
      "text/html": [
       "<div>\n",
       "<style scoped>\n",
       "    .dataframe tbody tr th:only-of-type {\n",
       "        vertical-align: middle;\n",
       "    }\n",
       "\n",
       "    .dataframe tbody tr th {\n",
       "        vertical-align: top;\n",
       "    }\n",
       "\n",
       "    .dataframe thead th {\n",
       "        text-align: right;\n",
       "    }\n",
       "</style>\n",
       "<table border=\"1\" class=\"dataframe\">\n",
       "  <thead>\n",
       "    <tr style=\"text-align: right;\">\n",
       "      <th></th>\n",
       "      <th>name</th>\n",
       "      <th>age</th>\n",
       "      <th>job</th>\n",
       "    </tr>\n",
       "  </thead>\n",
       "  <tbody>\n",
       "    <tr>\n",
       "      <th>a</th>\n",
       "      <td>james</td>\n",
       "      <td>30</td>\n",
       "      <td>programmer</td>\n",
       "    </tr>\n",
       "    <tr>\n",
       "      <th>b</th>\n",
       "      <td>amy</td>\n",
       "      <td>20</td>\n",
       "      <td>student</td>\n",
       "    </tr>\n",
       "    <tr>\n",
       "      <th>c</th>\n",
       "      <td>david</td>\n",
       "      <td>25</td>\n",
       "      <td>designer</td>\n",
       "    </tr>\n",
       "  </tbody>\n",
       "</table>\n",
       "</div>"
      ],
      "text/plain": [
       "    name  age         job\n",
       "a  james   30  programmer\n",
       "b    amy   20     student\n",
       "c  david   25    designer"
      ]
     },
     "execution_count": 5,
     "metadata": {},
     "output_type": "execute_result"
    }
   ],
   "source": [
    "df = pd.DataFrame(\n",
    "    [['james',30,'programmer'],\n",
    "    ['amy',20,'student'],\n",
    "    ['david',25,'designer']],\n",
    "    columns = ['name','age','job'],\n",
    "    index = ['a','b','c']\n",
    "    )\n",
    "df"
   ]
  },
  {
   "cell_type": "markdown",
   "id": "5f7e2e83",
   "metadata": {},
   "source": [
    "## 딕셔너리로 만들기\n",
    "* pd.DataFrame(딕셔너리, index=인덱스리스트)\n",
    "* 딕셔너리는 {컬럼명1:컬럼값리스트, 컬럼명2:컬럼값리스트...}\n",
    "* 컬럼 단위로 데이터프레임이 생성된다.\n",
    "* 딕셔너리의 키가 컬럼명이 된다.\n",
    "* 인덱스를 지정하지 않으면 디폴트로 0부터 시작하는 숫자가 지정된다."
   ]
  },
  {
   "cell_type": "code",
   "execution_count": 6,
   "id": "643f9c36",
   "metadata": {},
   "outputs": [
    {
     "data": {
      "text/html": [
       "<div>\n",
       "<style scoped>\n",
       "    .dataframe tbody tr th:only-of-type {\n",
       "        vertical-align: middle;\n",
       "    }\n",
       "\n",
       "    .dataframe tbody tr th {\n",
       "        vertical-align: top;\n",
       "    }\n",
       "\n",
       "    .dataframe thead th {\n",
       "        text-align: right;\n",
       "    }\n",
       "</style>\n",
       "<table border=\"1\" class=\"dataframe\">\n",
       "  <thead>\n",
       "    <tr style=\"text-align: right;\">\n",
       "      <th></th>\n",
       "      <th>name</th>\n",
       "      <th>age</th>\n",
       "      <th>job</th>\n",
       "    </tr>\n",
       "  </thead>\n",
       "  <tbody>\n",
       "    <tr>\n",
       "      <th>a</th>\n",
       "      <td>james</td>\n",
       "      <td>30</td>\n",
       "      <td>programmer</td>\n",
       "    </tr>\n",
       "    <tr>\n",
       "      <th>b</th>\n",
       "      <td>amy</td>\n",
       "      <td>20</td>\n",
       "      <td>student</td>\n",
       "    </tr>\n",
       "    <tr>\n",
       "      <th>c</th>\n",
       "      <td>david</td>\n",
       "      <td>25</td>\n",
       "      <td>designer</td>\n",
       "    </tr>\n",
       "  </tbody>\n",
       "</table>\n",
       "</div>"
      ],
      "text/plain": [
       "    name  age         job\n",
       "a  james   30  programmer\n",
       "b    amy   20     student\n",
       "c  david   25    designer"
      ]
     },
     "execution_count": 6,
     "metadata": {},
     "output_type": "execute_result"
    }
   ],
   "source": [
    "{'name':['james','amy','david'],\n",
    " 'age':[30,20,25],\n",
    " 'job':['programmer','student','designer']\n",
    "}\n",
    "\n",
    "df = pd.DataFrame(\n",
    "    {'name':['james','amy','david'],\n",
    "     'age':[30,20,25],\n",
    "     'job':['programmer','student','designer']\n",
    "    },\n",
    "    index = ['a','b','c']\n",
    ")\n",
    "df"
   ]
  },
  {
   "cell_type": "markdown",
   "id": "41769be6",
   "metadata": {},
   "source": [
    "## csv 파일에서 데이터를 읽어와 만들기\n",
    "* pd.read_csv(파일경로)\n",
    "* csv파일은 utf-8 형식이어야 한다."
   ]
  },
  {
   "cell_type": "code",
   "execution_count": 9,
   "id": "e2bea53f",
   "metadata": {
    "scrolled": false
   },
   "outputs": [
    {
     "data": {
      "text/html": [
       "<div>\n",
       "<style scoped>\n",
       "    .dataframe tbody tr th:only-of-type {\n",
       "        vertical-align: middle;\n",
       "    }\n",
       "\n",
       "    .dataframe tbody tr th {\n",
       "        vertical-align: top;\n",
       "    }\n",
       "\n",
       "    .dataframe thead th {\n",
       "        text-align: right;\n",
       "    }\n",
       "</style>\n",
       "<table border=\"1\" class=\"dataframe\">\n",
       "  <thead>\n",
       "    <tr style=\"text-align: right;\">\n",
       "      <th></th>\n",
       "      <th>empno</th>\n",
       "      <th>ename</th>\n",
       "      <th>deptno</th>\n",
       "      <th>sal</th>\n",
       "    </tr>\n",
       "  </thead>\n",
       "  <tbody>\n",
       "    <tr>\n",
       "      <th>0</th>\n",
       "      <td>1</td>\n",
       "      <td>smith</td>\n",
       "      <td>10</td>\n",
       "      <td>4000</td>\n",
       "    </tr>\n",
       "    <tr>\n",
       "      <th>1</th>\n",
       "      <td>2</td>\n",
       "      <td>allen</td>\n",
       "      <td>10</td>\n",
       "      <td>4500</td>\n",
       "    </tr>\n",
       "    <tr>\n",
       "      <th>2</th>\n",
       "      <td>3</td>\n",
       "      <td>ford</td>\n",
       "      <td>20</td>\n",
       "      <td>4300</td>\n",
       "    </tr>\n",
       "    <tr>\n",
       "      <th>3</th>\n",
       "      <td>4</td>\n",
       "      <td>grace</td>\n",
       "      <td>10</td>\n",
       "      <td>4200</td>\n",
       "    </tr>\n",
       "    <tr>\n",
       "      <th>4</th>\n",
       "      <td>5</td>\n",
       "      <td>scott</td>\n",
       "      <td>30</td>\n",
       "      <td>4100</td>\n",
       "    </tr>\n",
       "    <tr>\n",
       "      <th>5</th>\n",
       "      <td>6</td>\n",
       "      <td>king</td>\n",
       "      <td>20</td>\n",
       "      <td>4000</td>\n",
       "    </tr>\n",
       "  </tbody>\n",
       "</table>\n",
       "</div>"
      ],
      "text/plain": [
       "   empno  ename  deptno   sal\n",
       "0      1  smith      10  4000\n",
       "1      2  allen      10  4500\n",
       "2      3   ford      20  4300\n",
       "3      4  grace      10  4200\n",
       "4      5  scott      30  4100\n",
       "5      6   king      20  4000"
      ]
     },
     "execution_count": 9,
     "metadata": {},
     "output_type": "execute_result"
    }
   ],
   "source": [
    "#df = pd.read_csv('scores.csv')\n",
    "df = pd.read_csv('emp.csv')\n",
    "df"
   ]
  },
  {
   "cell_type": "code",
   "execution_count": null,
   "id": "bf6762ff",
   "metadata": {},
   "outputs": [],
   "source": []
  }
 ],
 "metadata": {
  "kernelspec": {
   "display_name": "Python 3",
   "language": "python",
   "name": "python3"
  },
  "language_info": {
   "codemirror_mode": {
    "name": "ipython",
    "version": 3
   },
   "file_extension": ".py",
   "mimetype": "text/x-python",
   "name": "python",
   "nbconvert_exporter": "python",
   "pygments_lexer": "ipython3",
   "version": "3.8.8"
  },
  "toc": {
   "base_numbering": 1,
   "nav_menu": {},
   "number_sections": true,
   "sideBar": true,
   "skip_h1_title": false,
   "title_cell": "Table of Contents",
   "title_sidebar": "Contents",
   "toc_cell": false,
   "toc_position": {
    "height": "calc(100% - 180px)",
    "left": "10px",
    "top": "150px",
    "width": "268.8px"
   },
   "toc_section_display": true,
   "toc_window_display": true
  }
 },
 "nbformat": 4,
 "nbformat_minor": 5
}
