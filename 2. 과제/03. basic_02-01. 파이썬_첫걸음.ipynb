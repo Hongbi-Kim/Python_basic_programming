{
 "cells": [
  {
   "cell_type": "markdown",
   "id": "c316adbe",
   "metadata": {},
   "source": [
    "# 출력하기\n",
    "## 기본출력\n",
    "- print(value1, value2, ..., )"
   ]
  },
  {
   "cell_type": "code",
   "execution_count": 1,
   "id": "01e198b5",
   "metadata": {},
   "outputs": [
    {
     "name": "stdout",
     "output_type": "stream",
     "text": [
      "hello\n",
      "hello\n"
     ]
    }
   ],
   "source": [
    "# hello 출력하기\n",
    "print('hello')\n",
    "print(\"hello\")"
   ]
  },
  {
   "cell_type": "code",
   "execution_count": 2,
   "id": "7d8502b3",
   "metadata": {},
   "outputs": [
    {
     "name": "stdout",
     "output_type": "stream",
     "text": [
      "hello python\n"
     ]
    }
   ],
   "source": [
    "# hello, python 출력하기\n",
    "print('hello','python')"
   ]
  },
  {
   "cell_type": "code",
   "execution_count": 4,
   "id": "5733c986",
   "metadata": {},
   "outputs": [
    {
     "name": "stdout",
     "output_type": "stream",
     "text": [
      "1 + 1 =  2\n"
     ]
    }
   ],
   "source": [
    "# 계산식 출력하기 (1+1=2)\n",
    "print('1 + 1 = ',1+1)"
   ]
  },
  {
   "cell_type": "markdown",
   "id": "bee5b881",
   "metadata": {},
   "source": [
    "## 구분자 지정\n",
    "- print(value1, value2, ..., sep='구분자')"
   ]
  },
  {
   "cell_type": "code",
   "execution_count": 5,
   "id": "3860c140",
   "metadata": {},
   "outputs": [
    {
     "name": "stdout",
     "output_type": "stream",
     "text": [
      "hello,python\n"
     ]
    }
   ],
   "source": [
    "# ,로 구분 (hello,python)\n",
    "print('hello','python',sep=',')"
   ]
  },
  {
   "cell_type": "code",
   "execution_count": 8,
   "id": "ea1468b8",
   "metadata": {},
   "outputs": [
    {
     "name": "stdout",
     "output_type": "stream",
     "text": [
      "1+1=2\n"
     ]
    }
   ],
   "source": [
    "# 공백없이 붙여서 출력 (1+1=2)\n",
    "print('1+1=',1+1,sep='')"
   ]
  },
  {
   "cell_type": "markdown",
   "id": "ab222fc5",
   "metadata": {},
   "source": [
    "## 끝문자 지정\n",
    "- print(value1, value2, ..., end='끝문자')"
   ]
  },
  {
   "cell_type": "code",
   "execution_count": 9,
   "id": "ae0a3fd9",
   "metadata": {},
   "outputs": [
    {
     "name": "stdout",
     "output_type": "stream",
     "text": [
      "안녕하세요 반갑습니다\n"
     ]
    }
   ],
   "source": [
    "# 공백으로 끝내기 (안녕하세요 반갑습니다)\n",
    "print('안녕하세요', end=' ')\n",
    "print('반갑습니다')"
   ]
  },
  {
   "cell_type": "code",
   "execution_count": 10,
   "id": "b613be0b",
   "metadata": {},
   "outputs": [
    {
     "name": "stdout",
     "output_type": "stream",
     "text": [
      "안녕하세요!!반갑습니다!!"
     ]
    }
   ],
   "source": [
    "# !!로 끝내기(안녕하세요!!반갑습니다!!)\n",
    "print('안녕하세요', end='!!')\n",
    "print('반갑습니다', end='!!')"
   ]
  },
  {
   "cell_type": "markdown",
   "id": "3dff7899",
   "metadata": {},
   "source": [
    "## 여러 줄 한번에 출력하기\n",
    "- 홑따옴표 세개(''') 혹은 쌍따옴표 세개(\"\"\")로 묶는다."
   ]
  },
  {
   "cell_type": "code",
   "execution_count": 11,
   "id": "34380fdc",
   "metadata": {},
   "outputs": [
    {
     "name": "stdout",
     "output_type": "stream",
     "text": [
      "자세히 보아야 예쁘다.\n",
      "오래 보아야 사랑스럽다.\n",
      "너도 그렇다.\n"
     ]
    }
   ],
   "source": [
    "print('자세히 보아야 예쁘다.')\n",
    "print('오래 보아야 사랑스럽다.')\n",
    "print('너도 그렇다.')"
   ]
  },
  {
   "cell_type": "code",
   "execution_count": 12,
   "id": "b7a8d765",
   "metadata": {},
   "outputs": [
    {
     "name": "stdout",
     "output_type": "stream",
     "text": [
      "\n",
      "자세히 보아야 예쁘다.\n",
      "오래 보아야 사랑스럽다.\n",
      "너도 그렇다.\n",
      "\n"
     ]
    }
   ],
   "source": [
    "print('''\n",
    "자세히 보아야 예쁘다.\n",
    "오래 보아야 사랑스럽다.\n",
    "너도 그렇다.\n",
    "''')"
   ]
  },
  {
   "cell_type": "code",
   "execution_count": 13,
   "id": "74c22593",
   "metadata": {},
   "outputs": [
    {
     "name": "stdout",
     "output_type": "stream",
     "text": [
      "\n",
      "자세히 보아야 예쁘다.\n",
      "오래 보아야 사랑스럽다.\n",
      "너도 그렇다.\n",
      "\n"
     ]
    }
   ],
   "source": [
    "print(\"\"\"\n",
    "자세히 보아야 예쁘다.\n",
    "오래 보아야 사랑스럽다.\n",
    "너도 그렇다.\n",
    "\"\"\")"
   ]
  },
  {
   "cell_type": "markdown",
   "id": "a7fe9250",
   "metadata": {},
   "source": [
    "## 주석달기\n",
    "- 프로그램에 대한 설명을 적을 때, 코드의 실행을 잠시 막아둘 때 주석을 사용한다.\n",
    "- 파이썬에서는 샵('#') 을 주석 기호로 사용한다."
   ]
  },
  {
   "cell_type": "code",
   "execution_count": 14,
   "id": "e0ef42a2",
   "metadata": {},
   "outputs": [
    {
     "name": "stdout",
     "output_type": "stream",
     "text": [
      "1\n",
      "3\n"
     ]
    }
   ],
   "source": [
    "## 주석에 대한 코드입니다##\n",
    "print(1) # 주석\n",
    "#print(2)  \n",
    "print(3)"
   ]
  },
  {
   "cell_type": "markdown",
   "id": "38dd44ec",
   "metadata": {},
   "source": [
    "## 들여쓰기\n",
    "- 파이썬에서는 들여쓰기 자체가 문법입니다.\n",
    "- 파이썬 들여쓰기 방법은 공백2칸, 공백4칸 등 여러가지 방법이 있지만 보통 공백 4칸을 사용합니다."
   ]
  },
  {
   "cell_type": "code",
   "execution_count": 16,
   "id": "37850c9b",
   "metadata": {},
   "outputs": [
    {
     "ename": "IndentationError",
     "evalue": "unexpected indent (<ipython-input-16-ec46ed62a343>, line 2)",
     "output_type": "error",
     "traceback": [
      "\u001b[1;36m  File \u001b[1;32m\"<ipython-input-16-ec46ed62a343>\"\u001b[1;36m, line \u001b[1;32m2\u001b[0m\n\u001b[1;33m    print('hello2')\u001b[0m\n\u001b[1;37m    ^\u001b[0m\n\u001b[1;31mIndentationError\u001b[0m\u001b[1;31m:\u001b[0m unexpected indent\n"
     ]
    }
   ],
   "source": [
    "print('hello1')\n",
    " print('hello2')"
   ]
  },
  {
   "cell_type": "markdown",
   "id": "4867539b",
   "metadata": {},
   "source": [
    "## 오류 해석하기\n",
    "- 파이썬에서는 대소문자를 구분한다."
   ]
  },
  {
   "cell_type": "code",
   "execution_count": 17,
   "id": "766e7051",
   "metadata": {},
   "outputs": [
    {
     "ename": "NameError",
     "evalue": "name 'Print' is not defined",
     "output_type": "error",
     "traceback": [
      "\u001b[1;31m---------------------------------------------------------------------------\u001b[0m",
      "\u001b[1;31mNameError\u001b[0m                                 Traceback (most recent call last)",
      "\u001b[1;32m<ipython-input-17-e965a2e3f2d1>\u001b[0m in \u001b[0;36m<module>\u001b[1;34m\u001b[0m\n\u001b[1;32m----> 1\u001b[1;33m \u001b[0mPrint\u001b[0m\u001b[1;33m(\u001b[0m\u001b[1;34m'hello'\u001b[0m\u001b[1;33m)\u001b[0m\u001b[1;33m\u001b[0m\u001b[1;33m\u001b[0m\u001b[0m\n\u001b[0m",
      "\u001b[1;31mNameError\u001b[0m: name 'Print' is not defined"
     ]
    }
   ],
   "source": [
    "Print('hello')"
   ]
  },
  {
   "cell_type": "markdown",
   "id": "ecc41bd4",
   "metadata": {},
   "source": [
    "- 따옴표의 짝이 맞아야 한다."
   ]
  },
  {
   "cell_type": "code",
   "execution_count": 18,
   "id": "b788bcfa",
   "metadata": {},
   "outputs": [
    {
     "ename": "SyntaxError",
     "evalue": "EOL while scanning string literal (<ipython-input-18-d4eab85c1ef4>, line 1)",
     "output_type": "error",
     "traceback": [
      "\u001b[1;36m  File \u001b[1;32m\"<ipython-input-18-d4eab85c1ef4>\"\u001b[1;36m, line \u001b[1;32m1\u001b[0m\n\u001b[1;33m    print('hello'')\u001b[0m\n\u001b[1;37m                   ^\u001b[0m\n\u001b[1;31mSyntaxError\u001b[0m\u001b[1;31m:\u001b[0m EOL while scanning string literal\n"
     ]
    }
   ],
   "source": [
    "print('hello'')"
   ]
  },
  {
   "cell_type": "markdown",
   "id": "4919f164",
   "metadata": {},
   "source": [
    "- 괄호의 짝이 맞아야 한다."
   ]
  },
  {
   "cell_type": "code",
   "execution_count": 19,
   "id": "3ce17cea",
   "metadata": {},
   "outputs": [
    {
     "ename": "SyntaxError",
     "evalue": "closing parenthesis '}' does not match opening parenthesis '(' (<ipython-input-19-fec23c177ea7>, line 1)",
     "output_type": "error",
     "traceback": [
      "\u001b[1;36m  File \u001b[1;32m\"<ipython-input-19-fec23c177ea7>\"\u001b[1;36m, line \u001b[1;32m1\u001b[0m\n\u001b[1;33m    print('hello'}\u001b[0m\n\u001b[1;37m                 ^\u001b[0m\n\u001b[1;31mSyntaxError\u001b[0m\u001b[1;31m:\u001b[0m closing parenthesis '}' does not match opening parenthesis '('\n"
     ]
    }
   ],
   "source": [
    "print('hello'}"
   ]
  }
 ],
 "metadata": {
  "kernelspec": {
   "display_name": "Python 3",
   "language": "python",
   "name": "python3"
  },
  "language_info": {
   "codemirror_mode": {
    "name": "ipython",
    "version": 3
   },
   "file_extension": ".py",
   "mimetype": "text/x-python",
   "name": "python",
   "nbconvert_exporter": "python",
   "pygments_lexer": "ipython3",
   "version": "3.8.8"
  }
 },
 "nbformat": 4,
 "nbformat_minor": 5
}
