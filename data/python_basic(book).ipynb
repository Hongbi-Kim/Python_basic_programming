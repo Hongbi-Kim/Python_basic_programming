{
 "cells": [
  {
   "cell_type": "markdown",
   "id": "3d47895d",
   "metadata": {},
   "source": [
    "## 1. 출력과 입력 그리고 변수"
   ]
  },
  {
   "cell_type": "code",
   "execution_count": 2,
   "id": "54a5b1c7",
   "metadata": {},
   "outputs": [
    {
     "name": "stdout",
     "output_type": "stream",
     "text": [
      "hello world\n"
     ]
    }
   ],
   "source": [
    "# print() 함수로 출력하기\n",
    "print(\"hello world\")"
   ]
  },
  {
   "cell_type": "code",
   "execution_count": 4,
   "id": "0983c8c9",
   "metadata": {},
   "outputs": [
    {
     "name": "stdout",
     "output_type": "stream",
     "text": [
      "파이쏭\n",
      "파이쏭님! 안녕하세요!\n"
     ]
    }
   ],
   "source": [
    "# 변수\n",
    "name = \"파이쏭\"\n",
    "print(name)\n",
    "print(name+\"님! 안녕하세요!\") # '+'기호 : 문자열과 문자열 사이에 있을 때 연결"
   ]
  },
  {
   "cell_type": "code",
   "execution_count": 6,
   "id": "fd09219a",
   "metadata": {},
   "outputs": [
    {
     "name": "stdout",
     "output_type": "stream",
     "text": [
      "이름을 입력해주세요 : 룰루\n",
      "룰루님! 안녕하세요!\n"
     ]
    }
   ],
   "source": [
    "# input()\n",
    "name = input('이름을 입력해주세요 : ')\n",
    "print(name+\"님! 안녕하세요!\")"
   ]
  },
  {
   "cell_type": "code",
   "execution_count": 9,
   "id": "cdffb4d9",
   "metadata": {},
   "outputs": [
    {
     "name": "stdout",
     "output_type": "stream",
     "text": [
      "나이를 입력해주세요! : 26\n",
      "22\n"
     ]
    }
   ],
   "source": [
    "age = input('나이를 입력해주세요! : ')\n",
    "print(int(age)-4)"
   ]
  },
  {
   "cell_type": "code",
   "execution_count": 8,
   "id": "26cef6c1",
   "metadata": {},
   "outputs": [
    {
     "name": "stdout",
     "output_type": "stream",
     "text": [
      "이름을 입력해주세요 : 룰루\n",
      "나이를 입력해주세요! : 26\n",
      "안녕하세요! 룰루님! 저는 처음에 22살인 줄 알았어요!!\n"
     ]
    }
   ],
   "source": [
    "name = input('이름을 입력해주세요 : ')\n",
    "age = int(input('나이를 입력해주세요! : '))\n",
    "print(\"안녕하세요!\", name+\"님! 저는 처음에 \" +str(age - 4)+ \"살인 줄 알았어요!!\")"
   ]
  },
  {
   "cell_type": "markdown",
   "id": "f69fafce",
   "metadata": {},
   "source": [
    "## 2. 연산자 사용하기"
   ]
  },
  {
   "cell_type": "code",
   "execution_count": 10,
   "id": "19740095",
   "metadata": {},
   "outputs": [
    {
     "name": "stdout",
     "output_type": "stream",
     "text": [
      "30\n",
      "9\n",
      "1\n",
      "1.5\n",
      "1\n"
     ]
    }
   ],
   "source": [
    "# 산술연산자\n",
    "print(3 * 10)\n",
    "print(3 ** 2)\n",
    "print(9 % 2)  # 나머지 연산자\n",
    "print(3 / 2)   # 실수 나눗셈\n",
    "print(3 // 2)  # 정수 나눗셈"
   ]
  },
  {
   "cell_type": "code",
   "execution_count": 11,
   "id": "e6c43009",
   "metadata": {},
   "outputs": [
    {
     "name": "stdout",
     "output_type": "stream",
     "text": [
      "True\n",
      "False\n",
      "False\n",
      "True\n",
      "True\n"
     ]
    }
   ],
   "source": [
    "# 비교연산자\n",
    "print(10 >= 3)\n",
    "print(10 <= 3)\n",
    "print(10 == 3)\n",
    "print(10 != 3)\n",
    "print(3 % 2 == 1)"
   ]
  },
  {
   "cell_type": "code",
   "execution_count": 15,
   "id": "9888d35b",
   "metadata": {},
   "outputs": [
    {
     "name": "stdout",
     "output_type": "stream",
     "text": [
      "True\n",
      "True\n",
      "False\n"
     ]
    }
   ],
   "source": [
    "# 논리연산자\n",
    "print(1 == 1 and 2 != 1)\n",
    "print(10 % 2 != 0 or 1 + 1 > 0)\n",
    "print(not 10 > 5)"
   ]
  },
  {
   "cell_type": "markdown",
   "id": "f1695425",
   "metadata": {},
   "source": [
    "## 3. 함수 불러오기"
   ]
  },
  {
   "cell_type": "markdown",
   "id": "b9eecac5",
   "metadata": {},
   "source": [
    "`random`"
   ]
  },
  {
   "cell_type": "code",
   "execution_count": 16,
   "id": "1ee5a0ab",
   "metadata": {},
   "outputs": [
    {
     "name": "stdout",
     "output_type": "stream",
     "text": [
      "6\n"
     ]
    }
   ],
   "source": [
    "import random\n",
    "dice = random.randint(1,6)\n",
    "print(dice) # random number"
   ]
  },
  {
   "cell_type": "markdown",
   "id": "572899de",
   "metadata": {},
   "source": [
    "`math`"
   ]
  },
  {
   "cell_type": "code",
   "execution_count": 17,
   "id": "919c0b81",
   "metadata": {},
   "outputs": [
    {
     "name": "stdout",
     "output_type": "stream",
     "text": [
      "1.4142135623730951\n"
     ]
    }
   ],
   "source": [
    "import math\n",
    "print(math.sqrt(2))"
   ]
  },
  {
   "cell_type": "markdown",
   "id": "b6ff9932",
   "metadata": {},
   "source": [
    "## 4. 반복과 선택"
   ]
  },
  {
   "cell_type": "code",
   "execution_count": 18,
   "id": "d68c42de",
   "metadata": {},
   "outputs": [
    {
     "name": "stdout",
     "output_type": "stream",
     "text": [
      "파\n",
      "이\n",
      "쏭\n"
     ]
    }
   ],
   "source": [
    "name = \"파이쏭\"\n",
    "for i in name:\n",
    "    print(i)"
   ]
  },
  {
   "cell_type": "code",
   "execution_count": 1,
   "id": "b1353349",
   "metadata": {},
   "outputs": [
    {
     "name": "stdout",
     "output_type": "stream",
     "text": [
      "쵸파\n",
      "루피\n",
      "상디\n",
      "조로\n"
     ]
    }
   ],
   "source": [
    "names = ['쵸파','루피','상디','조로']\n",
    "for name in names:\n",
    "    print(name)"
   ]
  },
  {
   "cell_type": "code",
   "execution_count": 2,
   "id": "bedb3840",
   "metadata": {},
   "outputs": [
    {
     "name": "stdout",
     "output_type": "stream",
     "text": [
      "0\n",
      "1\n",
      "4\n",
      "9\n"
     ]
    }
   ],
   "source": [
    "for i in [0,1,2,3]:\n",
    "    print(i**2)"
   ]
  },
  {
   "cell_type": "code",
   "execution_count": 3,
   "id": "bfc377be",
   "metadata": {},
   "outputs": [
    {
     "name": "stdout",
     "output_type": "stream",
     "text": [
      "안녕하세요?\n"
     ]
    }
   ],
   "source": [
    "# if 조건문\n",
    "if 10 > 0:\n",
    "    print(\"안녕하세요?\")"
   ]
  },
  {
   "cell_type": "code",
   "execution_count": 4,
   "id": "28c210e2",
   "metadata": {},
   "outputs": [
    {
     "name": "stdout",
     "output_type": "stream",
     "text": [
      "안녕하세요?\n"
     ]
    }
   ],
   "source": [
    "if 10 != 0 and 5 % 2 == 1 :\n",
    "    print(\"안녕하세요?\")"
   ]
  },
  {
   "cell_type": "code",
   "execution_count": 6,
   "id": "c83dc809",
   "metadata": {},
   "outputs": [
    {
     "name": "stdout",
     "output_type": "stream",
     "text": [
      "비밀번호 4자리를 입력하세요 : 1531\n",
      "비밀번호가 일치합니다.\n"
     ]
    }
   ],
   "source": [
    "passwd = int(input(\"비밀번호 4자리를 입력하세요 : \"))\n",
    "if passwd == 1531:\n",
    "    print(\"비밀번호가 일치합니다.\")"
   ]
  },
  {
   "cell_type": "code",
   "execution_count": 7,
   "id": "b456d3ce",
   "metadata": {},
   "outputs": [
    {
     "name": "stdout",
     "output_type": "stream",
     "text": [
      "비밀번호 4자리를 입력하세요 : 1532\n",
      "_______________________\n"
     ]
    }
   ],
   "source": [
    "passwd = int(input(\"비밀번호 4자리를 입력하세요 : \"))\n",
    "if passwd == 1531:\n",
    "    print(\"비밀번호가 일치합니다.\")\n",
    "else:\n",
    "    print(\"_______________________\")"
   ]
  },
  {
   "cell_type": "markdown",
   "id": "da286e42",
   "metadata": {},
   "source": [
    "## 5. 순서 있는 저장 공간 리스트"
   ]
  },
  {
   "cell_type": "code",
   "execution_count": 9,
   "id": "ffd2810f",
   "metadata": {},
   "outputs": [
    {
     "name": "stdout",
     "output_type": "stream",
     "text": [
      "루피\n",
      "조로\n"
     ]
    }
   ],
   "source": [
    "names = ['쵸파','루피','상디','조로']\n",
    "print(names[1])\n",
    "print(names[-1])"
   ]
  },
  {
   "cell_type": "code",
   "execution_count": 10,
   "id": "4fdc610a",
   "metadata": {},
   "outputs": [
    {
     "name": "stdout",
     "output_type": "stream",
     "text": [
      "['쵸파', '루피', '상디', '조로', '나미']\n"
     ]
    }
   ],
   "source": [
    "# 리스트에 값 추가하기\n",
    "names = ['쵸파','루피','상디','조로']\n",
    "names.append('나미')\n",
    "print(names)"
   ]
  },
  {
   "cell_type": "code",
   "execution_count": 11,
   "id": "7efeb38a",
   "metadata": {},
   "outputs": [
    {
     "name": "stdout",
     "output_type": "stream",
     "text": [
      "5\n",
      "26\n"
     ]
    }
   ],
   "source": [
    "print(len(names))\n",
    "print(len('data analysis for everyone'))"
   ]
  },
  {
   "cell_type": "code",
   "execution_count": 12,
   "id": "ba944e18",
   "metadata": {},
   "outputs": [
    {
     "name": "stdout",
     "output_type": "stream",
     "text": [
      "해적왕 왔나요?\n"
     ]
    }
   ],
   "source": [
    "names = ['쵸파','루피','상디','조로']\n",
    "names.append('해적왕')\n",
    "for name in names:\n",
    "    if len(name) > 2:\n",
    "        print(name, \"왔나요?\")"
   ]
  },
  {
   "cell_type": "code",
   "execution_count": null,
   "id": "e260fb8d",
   "metadata": {},
   "outputs": [],
   "source": []
  }
 ],
 "metadata": {
  "kernelspec": {
   "display_name": "Python 3",
   "language": "python",
   "name": "python3"
  },
  "language_info": {
   "codemirror_mode": {
    "name": "ipython",
    "version": 3
   },
   "file_extension": ".py",
   "mimetype": "text/x-python",
   "name": "python",
   "nbconvert_exporter": "python",
   "pygments_lexer": "ipython3",
   "version": "3.8.8"
  }
 },
 "nbformat": 4,
 "nbformat_minor": 5
}
