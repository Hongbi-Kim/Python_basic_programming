{
 "cells": [
  {
   "cell_type": "markdown",
   "metadata": {},
   "source": [
    "# Homework Week 1"
   ]
  },
  {
   "cell_type": "markdown",
   "metadata": {},
   "source": [
    "## Numpy & Pandas HW"
   ]
  },
  {
   "cell_type": "markdown",
   "metadata": {},
   "source": [
    "#### 1. 주어진 DataFrame 컬럼 순서 바꾸기 (서로 다른 종류 3가지 이상)\n",
    "- iloc, loc, append, concat 함수 또는 컬럼 인덱싱으로 DataFrame의 컬럼 순서를 바꿔보세요. Numpy 행렬로 변환했다가 DataFrame으로 만드셔도 됩니다."
   ]
  },
  {
   "cell_type": "code",
   "execution_count": 1,
   "metadata": {},
   "outputs": [],
   "source": [
    "from os.path import join\n",
    "\n",
    "import numpy as np\n",
    "import pandas as pd"
   ]
  },
  {
   "cell_type": "code",
   "execution_count": 2,
   "metadata": {},
   "outputs": [
    {
     "data": {
      "text/html": [
       "<div>\n",
       "<style scoped>\n",
       "    .dataframe tbody tr th:only-of-type {\n",
       "        vertical-align: middle;\n",
       "    }\n",
       "\n",
       "    .dataframe tbody tr th {\n",
       "        vertical-align: top;\n",
       "    }\n",
       "\n",
       "    .dataframe thead th {\n",
       "        text-align: right;\n",
       "    }\n",
       "</style>\n",
       "<table border=\"1\" class=\"dataframe\">\n",
       "  <thead>\n",
       "    <tr style=\"text-align: right;\">\n",
       "      <th></th>\n",
       "      <th>A</th>\n",
       "      <th>B</th>\n",
       "      <th>C</th>\n",
       "    </tr>\n",
       "  </thead>\n",
       "  <tbody>\n",
       "    <tr>\n",
       "      <th>0</th>\n",
       "      <td>0.170395</td>\n",
       "      <td>0.293128</td>\n",
       "      <td>0.301162</td>\n",
       "    </tr>\n",
       "    <tr>\n",
       "      <th>1</th>\n",
       "      <td>0.379944</td>\n",
       "      <td>0.498647</td>\n",
       "      <td>0.021255</td>\n",
       "    </tr>\n",
       "    <tr>\n",
       "      <th>2</th>\n",
       "      <td>0.183947</td>\n",
       "      <td>0.721333</td>\n",
       "      <td>0.872580</td>\n",
       "    </tr>\n",
       "    <tr>\n",
       "      <th>3</th>\n",
       "      <td>0.482715</td>\n",
       "      <td>0.316301</td>\n",
       "      <td>0.841127</td>\n",
       "    </tr>\n",
       "    <tr>\n",
       "      <th>4</th>\n",
       "      <td>0.431866</td>\n",
       "      <td>0.922759</td>\n",
       "      <td>0.275604</td>\n",
       "    </tr>\n",
       "    <tr>\n",
       "      <th>5</th>\n",
       "      <td>0.352787</td>\n",
       "      <td>0.960322</td>\n",
       "      <td>0.039054</td>\n",
       "    </tr>\n",
       "    <tr>\n",
       "      <th>6</th>\n",
       "      <td>0.235591</td>\n",
       "      <td>0.018865</td>\n",
       "      <td>0.093037</td>\n",
       "    </tr>\n",
       "    <tr>\n",
       "      <th>7</th>\n",
       "      <td>0.562341</td>\n",
       "      <td>0.284166</td>\n",
       "      <td>0.758842</td>\n",
       "    </tr>\n",
       "    <tr>\n",
       "      <th>8</th>\n",
       "      <td>0.550060</td>\n",
       "      <td>0.837803</td>\n",
       "      <td>0.349137</td>\n",
       "    </tr>\n",
       "    <tr>\n",
       "      <th>9</th>\n",
       "      <td>0.037572</td>\n",
       "      <td>0.673437</td>\n",
       "      <td>0.792959</td>\n",
       "    </tr>\n",
       "  </tbody>\n",
       "</table>\n",
       "</div>"
      ],
      "text/plain": [
       "          A         B         C\n",
       "0  0.170395  0.293128  0.301162\n",
       "1  0.379944  0.498647  0.021255\n",
       "2  0.183947  0.721333  0.872580\n",
       "3  0.482715  0.316301  0.841127\n",
       "4  0.431866  0.922759  0.275604\n",
       "5  0.352787  0.960322  0.039054\n",
       "6  0.235591  0.018865  0.093037\n",
       "7  0.562341  0.284166  0.758842\n",
       "8  0.550060  0.837803  0.349137\n",
       "9  0.037572  0.673437  0.792959"
      ]
     },
     "execution_count": 2,
     "metadata": {},
     "output_type": "execute_result"
    }
   ],
   "source": [
    "df = pd.DataFrame(np.random.uniform(0, 1, size=(10, 3)), columns=['A', 'B', 'C'])\n",
    "df"
   ]
  },
  {
   "cell_type": "code",
   "execution_count": 3,
   "metadata": {
    "scrolled": true
   },
   "outputs": [
    {
     "data": {
      "text/html": [
       "<div>\n",
       "<style scoped>\n",
       "    .dataframe tbody tr th:only-of-type {\n",
       "        vertical-align: middle;\n",
       "    }\n",
       "\n",
       "    .dataframe tbody tr th {\n",
       "        vertical-align: top;\n",
       "    }\n",
       "\n",
       "    .dataframe thead th {\n",
       "        text-align: right;\n",
       "    }\n",
       "</style>\n",
       "<table border=\"1\" class=\"dataframe\">\n",
       "  <thead>\n",
       "    <tr style=\"text-align: right;\">\n",
       "      <th></th>\n",
       "      <th>B</th>\n",
       "      <th>C</th>\n",
       "      <th>A</th>\n",
       "    </tr>\n",
       "  </thead>\n",
       "  <tbody>\n",
       "    <tr>\n",
       "      <th>0</th>\n",
       "      <td>0.293128</td>\n",
       "      <td>0.301162</td>\n",
       "      <td>0.170395</td>\n",
       "    </tr>\n",
       "    <tr>\n",
       "      <th>1</th>\n",
       "      <td>0.498647</td>\n",
       "      <td>0.021255</td>\n",
       "      <td>0.379944</td>\n",
       "    </tr>\n",
       "    <tr>\n",
       "      <th>2</th>\n",
       "      <td>0.721333</td>\n",
       "      <td>0.872580</td>\n",
       "      <td>0.183947</td>\n",
       "    </tr>\n",
       "    <tr>\n",
       "      <th>3</th>\n",
       "      <td>0.316301</td>\n",
       "      <td>0.841127</td>\n",
       "      <td>0.482715</td>\n",
       "    </tr>\n",
       "    <tr>\n",
       "      <th>4</th>\n",
       "      <td>0.922759</td>\n",
       "      <td>0.275604</td>\n",
       "      <td>0.431866</td>\n",
       "    </tr>\n",
       "    <tr>\n",
       "      <th>5</th>\n",
       "      <td>0.960322</td>\n",
       "      <td>0.039054</td>\n",
       "      <td>0.352787</td>\n",
       "    </tr>\n",
       "    <tr>\n",
       "      <th>6</th>\n",
       "      <td>0.018865</td>\n",
       "      <td>0.093037</td>\n",
       "      <td>0.235591</td>\n",
       "    </tr>\n",
       "    <tr>\n",
       "      <th>7</th>\n",
       "      <td>0.284166</td>\n",
       "      <td>0.758842</td>\n",
       "      <td>0.562341</td>\n",
       "    </tr>\n",
       "    <tr>\n",
       "      <th>8</th>\n",
       "      <td>0.837803</td>\n",
       "      <td>0.349137</td>\n",
       "      <td>0.550060</td>\n",
       "    </tr>\n",
       "    <tr>\n",
       "      <th>9</th>\n",
       "      <td>0.673437</td>\n",
       "      <td>0.792959</td>\n",
       "      <td>0.037572</td>\n",
       "    </tr>\n",
       "  </tbody>\n",
       "</table>\n",
       "</div>"
      ],
      "text/plain": [
       "          B         C         A\n",
       "0  0.293128  0.301162  0.170395\n",
       "1  0.498647  0.021255  0.379944\n",
       "2  0.721333  0.872580  0.183947\n",
       "3  0.316301  0.841127  0.482715\n",
       "4  0.922759  0.275604  0.431866\n",
       "5  0.960322  0.039054  0.352787\n",
       "6  0.018865  0.093037  0.235591\n",
       "7  0.284166  0.758842  0.562341\n",
       "8  0.837803  0.349137  0.550060\n",
       "9  0.673437  0.792959  0.037572"
      ]
     },
     "execution_count": 3,
     "metadata": {},
     "output_type": "execute_result"
    }
   ],
   "source": [
    "# 1\n",
    "cols = df.columns[[1,2,0]]\n",
    "df[cols]"
   ]
  },
  {
   "cell_type": "code",
   "execution_count": 4,
   "metadata": {},
   "outputs": [
    {
     "data": {
      "text/html": [
       "<div>\n",
       "<style scoped>\n",
       "    .dataframe tbody tr th:only-of-type {\n",
       "        vertical-align: middle;\n",
       "    }\n",
       "\n",
       "    .dataframe tbody tr th {\n",
       "        vertical-align: top;\n",
       "    }\n",
       "\n",
       "    .dataframe thead th {\n",
       "        text-align: right;\n",
       "    }\n",
       "</style>\n",
       "<table border=\"1\" class=\"dataframe\">\n",
       "  <thead>\n",
       "    <tr style=\"text-align: right;\">\n",
       "      <th></th>\n",
       "      <th>B</th>\n",
       "      <th>C</th>\n",
       "      <th>A</th>\n",
       "    </tr>\n",
       "  </thead>\n",
       "  <tbody>\n",
       "    <tr>\n",
       "      <th>0</th>\n",
       "      <td>0.293128</td>\n",
       "      <td>0.301162</td>\n",
       "      <td>0.170395</td>\n",
       "    </tr>\n",
       "    <tr>\n",
       "      <th>1</th>\n",
       "      <td>0.498647</td>\n",
       "      <td>0.021255</td>\n",
       "      <td>0.379944</td>\n",
       "    </tr>\n",
       "    <tr>\n",
       "      <th>2</th>\n",
       "      <td>0.721333</td>\n",
       "      <td>0.872580</td>\n",
       "      <td>0.183947</td>\n",
       "    </tr>\n",
       "    <tr>\n",
       "      <th>3</th>\n",
       "      <td>0.316301</td>\n",
       "      <td>0.841127</td>\n",
       "      <td>0.482715</td>\n",
       "    </tr>\n",
       "    <tr>\n",
       "      <th>4</th>\n",
       "      <td>0.922759</td>\n",
       "      <td>0.275604</td>\n",
       "      <td>0.431866</td>\n",
       "    </tr>\n",
       "    <tr>\n",
       "      <th>5</th>\n",
       "      <td>0.960322</td>\n",
       "      <td>0.039054</td>\n",
       "      <td>0.352787</td>\n",
       "    </tr>\n",
       "    <tr>\n",
       "      <th>6</th>\n",
       "      <td>0.018865</td>\n",
       "      <td>0.093037</td>\n",
       "      <td>0.235591</td>\n",
       "    </tr>\n",
       "    <tr>\n",
       "      <th>7</th>\n",
       "      <td>0.284166</td>\n",
       "      <td>0.758842</td>\n",
       "      <td>0.562341</td>\n",
       "    </tr>\n",
       "    <tr>\n",
       "      <th>8</th>\n",
       "      <td>0.837803</td>\n",
       "      <td>0.349137</td>\n",
       "      <td>0.550060</td>\n",
       "    </tr>\n",
       "    <tr>\n",
       "      <th>9</th>\n",
       "      <td>0.673437</td>\n",
       "      <td>0.792959</td>\n",
       "      <td>0.037572</td>\n",
       "    </tr>\n",
       "  </tbody>\n",
       "</table>\n",
       "</div>"
      ],
      "text/plain": [
       "          B         C         A\n",
       "0  0.293128  0.301162  0.170395\n",
       "1  0.498647  0.021255  0.379944\n",
       "2  0.721333  0.872580  0.183947\n",
       "3  0.316301  0.841127  0.482715\n",
       "4  0.922759  0.275604  0.431866\n",
       "5  0.960322  0.039054  0.352787\n",
       "6  0.018865  0.093037  0.235591\n",
       "7  0.284166  0.758842  0.562341\n",
       "8  0.837803  0.349137  0.550060\n",
       "9  0.673437  0.792959  0.037572"
      ]
     },
     "execution_count": 4,
     "metadata": {},
     "output_type": "execute_result"
    }
   ],
   "source": [
    "# 2\n",
    "df.loc[:,['B','C','A']]"
   ]
  },
  {
   "cell_type": "code",
   "execution_count": 5,
   "metadata": {},
   "outputs": [
    {
     "data": {
      "text/html": [
       "<div>\n",
       "<style scoped>\n",
       "    .dataframe tbody tr th:only-of-type {\n",
       "        vertical-align: middle;\n",
       "    }\n",
       "\n",
       "    .dataframe tbody tr th {\n",
       "        vertical-align: top;\n",
       "    }\n",
       "\n",
       "    .dataframe thead th {\n",
       "        text-align: right;\n",
       "    }\n",
       "</style>\n",
       "<table border=\"1\" class=\"dataframe\">\n",
       "  <thead>\n",
       "    <tr style=\"text-align: right;\">\n",
       "      <th></th>\n",
       "      <th>B</th>\n",
       "      <th>C</th>\n",
       "      <th>A</th>\n",
       "    </tr>\n",
       "  </thead>\n",
       "  <tbody>\n",
       "    <tr>\n",
       "      <th>0</th>\n",
       "      <td>0.293128</td>\n",
       "      <td>0.301162</td>\n",
       "      <td>0.170395</td>\n",
       "    </tr>\n",
       "    <tr>\n",
       "      <th>1</th>\n",
       "      <td>0.498647</td>\n",
       "      <td>0.021255</td>\n",
       "      <td>0.379944</td>\n",
       "    </tr>\n",
       "    <tr>\n",
       "      <th>2</th>\n",
       "      <td>0.721333</td>\n",
       "      <td>0.872580</td>\n",
       "      <td>0.183947</td>\n",
       "    </tr>\n",
       "    <tr>\n",
       "      <th>3</th>\n",
       "      <td>0.316301</td>\n",
       "      <td>0.841127</td>\n",
       "      <td>0.482715</td>\n",
       "    </tr>\n",
       "    <tr>\n",
       "      <th>4</th>\n",
       "      <td>0.922759</td>\n",
       "      <td>0.275604</td>\n",
       "      <td>0.431866</td>\n",
       "    </tr>\n",
       "    <tr>\n",
       "      <th>5</th>\n",
       "      <td>0.960322</td>\n",
       "      <td>0.039054</td>\n",
       "      <td>0.352787</td>\n",
       "    </tr>\n",
       "    <tr>\n",
       "      <th>6</th>\n",
       "      <td>0.018865</td>\n",
       "      <td>0.093037</td>\n",
       "      <td>0.235591</td>\n",
       "    </tr>\n",
       "    <tr>\n",
       "      <th>7</th>\n",
       "      <td>0.284166</td>\n",
       "      <td>0.758842</td>\n",
       "      <td>0.562341</td>\n",
       "    </tr>\n",
       "    <tr>\n",
       "      <th>8</th>\n",
       "      <td>0.837803</td>\n",
       "      <td>0.349137</td>\n",
       "      <td>0.550060</td>\n",
       "    </tr>\n",
       "    <tr>\n",
       "      <th>9</th>\n",
       "      <td>0.673437</td>\n",
       "      <td>0.792959</td>\n",
       "      <td>0.037572</td>\n",
       "    </tr>\n",
       "  </tbody>\n",
       "</table>\n",
       "</div>"
      ],
      "text/plain": [
       "          B         C         A\n",
       "0  0.293128  0.301162  0.170395\n",
       "1  0.498647  0.021255  0.379944\n",
       "2  0.721333  0.872580  0.183947\n",
       "3  0.316301  0.841127  0.482715\n",
       "4  0.922759  0.275604  0.431866\n",
       "5  0.960322  0.039054  0.352787\n",
       "6  0.018865  0.093037  0.235591\n",
       "7  0.284166  0.758842  0.562341\n",
       "8  0.837803  0.349137  0.550060\n",
       "9  0.673437  0.792959  0.037572"
      ]
     },
     "execution_count": 5,
     "metadata": {},
     "output_type": "execute_result"
    }
   ],
   "source": [
    "# 3\n",
    "df.iloc[:,[1,2,0]]"
   ]
  },
  {
   "cell_type": "code",
   "execution_count": null,
   "metadata": {},
   "outputs": [],
   "source": []
  },
  {
   "cell_type": "code",
   "execution_count": null,
   "metadata": {},
   "outputs": [],
   "source": []
  },
  {
   "cell_type": "code",
   "execution_count": null,
   "metadata": {},
   "outputs": [],
   "source": []
  },
  {
   "cell_type": "markdown",
   "metadata": {},
   "source": [
    "#### 2. 주어진 행렬의 각 원소 값을 해당 열의 평균 값으로 빼기\n",
    "- Numpy.mean() 함수와 브로드캐스팅 기능 사용"
   ]
  },
  {
   "cell_type": "code",
   "execution_count": 8,
   "metadata": {},
   "outputs": [
    {
     "data": {
      "text/plain": [
       "array([[3, 0, 4, 1, 4, 1],\n",
       "       [3, 1, 2, 4, 0, 1],\n",
       "       [0, 4, 4, 3, 2, 0],\n",
       "       [3, 2, 1, 4, 4, 4],\n",
       "       [2, 1, 3, 0, 2, 2]])"
      ]
     },
     "execution_count": 8,
     "metadata": {},
     "output_type": "execute_result"
    }
   ],
   "source": [
    "A = np.array(np.random.randint(0, 5, size=(5, 6)))\n",
    "A"
   ]
  },
  {
   "cell_type": "code",
   "execution_count": 18,
   "metadata": {},
   "outputs": [
    {
     "data": {
      "text/plain": [
       "array([[2.16666667],\n",
       "       [1.83333333],\n",
       "       [2.16666667],\n",
       "       [3.        ],\n",
       "       [1.66666667]])"
      ]
     },
     "execution_count": 18,
     "metadata": {},
     "output_type": "execute_result"
    }
   ],
   "source": [
    "mean = np.mean(A, axis = 1)\n",
    "mean = mean.reshape(5,1)\n",
    "mean"
   ]
  },
  {
   "cell_type": "code",
   "execution_count": 19,
   "metadata": {},
   "outputs": [
    {
     "data": {
      "text/plain": [
       "array([[ 0.83333333, -2.16666667,  1.83333333, -1.16666667,  1.83333333,\n",
       "        -1.16666667],\n",
       "       [ 1.16666667, -0.83333333,  0.16666667,  2.16666667, -1.83333333,\n",
       "        -0.83333333],\n",
       "       [-2.16666667,  1.83333333,  1.83333333,  0.83333333, -0.16666667,\n",
       "        -2.16666667],\n",
       "       [ 0.        , -1.        , -2.        ,  1.        ,  1.        ,\n",
       "         1.        ],\n",
       "       [ 0.33333333, -0.66666667,  1.33333333, -1.66666667,  0.33333333,\n",
       "         0.33333333]])"
      ]
     },
     "execution_count": 19,
     "metadata": {},
     "output_type": "execute_result"
    }
   ],
   "source": [
    "A - mean"
   ]
  },
  {
   "cell_type": "code",
   "execution_count": null,
   "metadata": {},
   "outputs": [],
   "source": []
  }
 ],
 "metadata": {
  "kernelspec": {
   "display_name": "Python 3",
   "language": "python",
   "name": "python3"
  },
  "language_info": {
   "codemirror_mode": {
    "name": "ipython",
    "version": 3
   },
   "file_extension": ".py",
   "mimetype": "text/x-python",
   "name": "python",
   "nbconvert_exporter": "python",
   "pygments_lexer": "ipython3",
   "version": "3.8.8"
  }
 },
 "nbformat": 4,
 "nbformat_minor": 4
}
