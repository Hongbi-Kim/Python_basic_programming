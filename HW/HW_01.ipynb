{
 "cells": [
  {
   "cell_type": "markdown",
   "metadata": {},
   "source": [
    "# Homework Week 1"
   ]
  },
  {
   "cell_type": "markdown",
   "metadata": {},
   "source": [
    "## Numpy & Pandas HW"
   ]
  },
  {
   "cell_type": "markdown",
   "metadata": {},
   "source": [
    "#### 1. 주어진 DataFrame 컬럼 순서 바꾸기 (서로 다른 종류 3가지 이상)\n",
    "- iloc, loc, append, concat 함수 또는 컬럼 인덱싱으로 DataFrame의 컬럼 순서를 바꿔보세요. Numpy 행렬로 변환했다가 DataFrame으로 만드셔도 됩니다."
   ]
  },
  {
   "cell_type": "code",
   "execution_count": 1,
   "metadata": {},
   "outputs": [],
   "source": [
    "from os.path import join\n",
    "\n",
    "import numpy as np\n",
    "import pandas as pd"
   ]
  },
  {
   "cell_type": "code",
   "execution_count": 2,
   "metadata": {},
   "outputs": [
    {
     "data": {
      "text/html": [
       "<div>\n",
       "<style scoped>\n",
       "    .dataframe tbody tr th:only-of-type {\n",
       "        vertical-align: middle;\n",
       "    }\n",
       "\n",
       "    .dataframe tbody tr th {\n",
       "        vertical-align: top;\n",
       "    }\n",
       "\n",
       "    .dataframe thead th {\n",
       "        text-align: right;\n",
       "    }\n",
       "</style>\n",
       "<table border=\"1\" class=\"dataframe\">\n",
       "  <thead>\n",
       "    <tr style=\"text-align: right;\">\n",
       "      <th></th>\n",
       "      <th>A</th>\n",
       "      <th>B</th>\n",
       "      <th>C</th>\n",
       "    </tr>\n",
       "  </thead>\n",
       "  <tbody>\n",
       "    <tr>\n",
       "      <th>0</th>\n",
       "      <td>0.158921</td>\n",
       "      <td>0.601053</td>\n",
       "      <td>0.751396</td>\n",
       "    </tr>\n",
       "    <tr>\n",
       "      <th>1</th>\n",
       "      <td>0.563394</td>\n",
       "      <td>0.099213</td>\n",
       "      <td>0.139086</td>\n",
       "    </tr>\n",
       "    <tr>\n",
       "      <th>2</th>\n",
       "      <td>0.317210</td>\n",
       "      <td>0.412797</td>\n",
       "      <td>0.751086</td>\n",
       "    </tr>\n",
       "    <tr>\n",
       "      <th>3</th>\n",
       "      <td>0.567281</td>\n",
       "      <td>0.669117</td>\n",
       "      <td>0.373708</td>\n",
       "    </tr>\n",
       "    <tr>\n",
       "      <th>4</th>\n",
       "      <td>0.238285</td>\n",
       "      <td>0.908060</td>\n",
       "      <td>0.481143</td>\n",
       "    </tr>\n",
       "    <tr>\n",
       "      <th>5</th>\n",
       "      <td>0.649004</td>\n",
       "      <td>0.786212</td>\n",
       "      <td>0.431935</td>\n",
       "    </tr>\n",
       "    <tr>\n",
       "      <th>6</th>\n",
       "      <td>0.779897</td>\n",
       "      <td>0.864169</td>\n",
       "      <td>0.245617</td>\n",
       "    </tr>\n",
       "    <tr>\n",
       "      <th>7</th>\n",
       "      <td>0.337587</td>\n",
       "      <td>0.819227</td>\n",
       "      <td>0.302002</td>\n",
       "    </tr>\n",
       "    <tr>\n",
       "      <th>8</th>\n",
       "      <td>0.221484</td>\n",
       "      <td>0.064485</td>\n",
       "      <td>0.788724</td>\n",
       "    </tr>\n",
       "    <tr>\n",
       "      <th>9</th>\n",
       "      <td>0.430231</td>\n",
       "      <td>0.920977</td>\n",
       "      <td>0.950163</td>\n",
       "    </tr>\n",
       "  </tbody>\n",
       "</table>\n",
       "</div>"
      ],
      "text/plain": [
       "          A         B         C\n",
       "0  0.158921  0.601053  0.751396\n",
       "1  0.563394  0.099213  0.139086\n",
       "2  0.317210  0.412797  0.751086\n",
       "3  0.567281  0.669117  0.373708\n",
       "4  0.238285  0.908060  0.481143\n",
       "5  0.649004  0.786212  0.431935\n",
       "6  0.779897  0.864169  0.245617\n",
       "7  0.337587  0.819227  0.302002\n",
       "8  0.221484  0.064485  0.788724\n",
       "9  0.430231  0.920977  0.950163"
      ]
     },
     "execution_count": 2,
     "metadata": {},
     "output_type": "execute_result"
    }
   ],
   "source": [
    "df = pd.DataFrame(np.random.uniform(0, 1, size=(10, 3)), columns=['A', 'B', 'C'])\n",
    "df"
   ]
  },
  {
   "cell_type": "code",
   "execution_count": 16,
   "metadata": {
    "scrolled": true
   },
   "outputs": [
    {
     "data": {
      "text/html": [
       "<div>\n",
       "<style scoped>\n",
       "    .dataframe tbody tr th:only-of-type {\n",
       "        vertical-align: middle;\n",
       "    }\n",
       "\n",
       "    .dataframe tbody tr th {\n",
       "        vertical-align: top;\n",
       "    }\n",
       "\n",
       "    .dataframe thead th {\n",
       "        text-align: right;\n",
       "    }\n",
       "</style>\n",
       "<table border=\"1\" class=\"dataframe\">\n",
       "  <thead>\n",
       "    <tr style=\"text-align: right;\">\n",
       "      <th></th>\n",
       "      <th>B</th>\n",
       "      <th>C</th>\n",
       "      <th>A</th>\n",
       "    </tr>\n",
       "  </thead>\n",
       "  <tbody>\n",
       "    <tr>\n",
       "      <th>0</th>\n",
       "      <td>0.601053</td>\n",
       "      <td>0.751396</td>\n",
       "      <td>0.158921</td>\n",
       "    </tr>\n",
       "    <tr>\n",
       "      <th>1</th>\n",
       "      <td>0.099213</td>\n",
       "      <td>0.139086</td>\n",
       "      <td>0.563394</td>\n",
       "    </tr>\n",
       "    <tr>\n",
       "      <th>2</th>\n",
       "      <td>0.412797</td>\n",
       "      <td>0.751086</td>\n",
       "      <td>0.317210</td>\n",
       "    </tr>\n",
       "    <tr>\n",
       "      <th>3</th>\n",
       "      <td>0.669117</td>\n",
       "      <td>0.373708</td>\n",
       "      <td>0.567281</td>\n",
       "    </tr>\n",
       "    <tr>\n",
       "      <th>4</th>\n",
       "      <td>0.908060</td>\n",
       "      <td>0.481143</td>\n",
       "      <td>0.238285</td>\n",
       "    </tr>\n",
       "    <tr>\n",
       "      <th>5</th>\n",
       "      <td>0.786212</td>\n",
       "      <td>0.431935</td>\n",
       "      <td>0.649004</td>\n",
       "    </tr>\n",
       "    <tr>\n",
       "      <th>6</th>\n",
       "      <td>0.864169</td>\n",
       "      <td>0.245617</td>\n",
       "      <td>0.779897</td>\n",
       "    </tr>\n",
       "    <tr>\n",
       "      <th>7</th>\n",
       "      <td>0.819227</td>\n",
       "      <td>0.302002</td>\n",
       "      <td>0.337587</td>\n",
       "    </tr>\n",
       "    <tr>\n",
       "      <th>8</th>\n",
       "      <td>0.064485</td>\n",
       "      <td>0.788724</td>\n",
       "      <td>0.221484</td>\n",
       "    </tr>\n",
       "    <tr>\n",
       "      <th>9</th>\n",
       "      <td>0.920977</td>\n",
       "      <td>0.950163</td>\n",
       "      <td>0.430231</td>\n",
       "    </tr>\n",
       "  </tbody>\n",
       "</table>\n",
       "</div>"
      ],
      "text/plain": [
       "          B         C         A\n",
       "0  0.601053  0.751396  0.158921\n",
       "1  0.099213  0.139086  0.563394\n",
       "2  0.412797  0.751086  0.317210\n",
       "3  0.669117  0.373708  0.567281\n",
       "4  0.908060  0.481143  0.238285\n",
       "5  0.786212  0.431935  0.649004\n",
       "6  0.864169  0.245617  0.779897\n",
       "7  0.819227  0.302002  0.337587\n",
       "8  0.064485  0.788724  0.221484\n",
       "9  0.920977  0.950163  0.430231"
      ]
     },
     "execution_count": 16,
     "metadata": {},
     "output_type": "execute_result"
    }
   ],
   "source": [
    "# 1\n",
    "cols = df.columns[[1,2,0]]\n",
    "df[cols]"
   ]
  },
  {
   "cell_type": "code",
   "execution_count": 25,
   "metadata": {},
   "outputs": [
    {
     "data": {
      "text/html": [
       "<div>\n",
       "<style scoped>\n",
       "    .dataframe tbody tr th:only-of-type {\n",
       "        vertical-align: middle;\n",
       "    }\n",
       "\n",
       "    .dataframe tbody tr th {\n",
       "        vertical-align: top;\n",
       "    }\n",
       "\n",
       "    .dataframe thead th {\n",
       "        text-align: right;\n",
       "    }\n",
       "</style>\n",
       "<table border=\"1\" class=\"dataframe\">\n",
       "  <thead>\n",
       "    <tr style=\"text-align: right;\">\n",
       "      <th></th>\n",
       "      <th>B</th>\n",
       "      <th>C</th>\n",
       "      <th>A</th>\n",
       "    </tr>\n",
       "  </thead>\n",
       "  <tbody>\n",
       "    <tr>\n",
       "      <th>0</th>\n",
       "      <td>0.601053</td>\n",
       "      <td>0.751396</td>\n",
       "      <td>0.158921</td>\n",
       "    </tr>\n",
       "    <tr>\n",
       "      <th>1</th>\n",
       "      <td>0.099213</td>\n",
       "      <td>0.139086</td>\n",
       "      <td>0.563394</td>\n",
       "    </tr>\n",
       "    <tr>\n",
       "      <th>2</th>\n",
       "      <td>0.412797</td>\n",
       "      <td>0.751086</td>\n",
       "      <td>0.317210</td>\n",
       "    </tr>\n",
       "    <tr>\n",
       "      <th>3</th>\n",
       "      <td>0.669117</td>\n",
       "      <td>0.373708</td>\n",
       "      <td>0.567281</td>\n",
       "    </tr>\n",
       "    <tr>\n",
       "      <th>4</th>\n",
       "      <td>0.908060</td>\n",
       "      <td>0.481143</td>\n",
       "      <td>0.238285</td>\n",
       "    </tr>\n",
       "    <tr>\n",
       "      <th>5</th>\n",
       "      <td>0.786212</td>\n",
       "      <td>0.431935</td>\n",
       "      <td>0.649004</td>\n",
       "    </tr>\n",
       "    <tr>\n",
       "      <th>6</th>\n",
       "      <td>0.864169</td>\n",
       "      <td>0.245617</td>\n",
       "      <td>0.779897</td>\n",
       "    </tr>\n",
       "    <tr>\n",
       "      <th>7</th>\n",
       "      <td>0.819227</td>\n",
       "      <td>0.302002</td>\n",
       "      <td>0.337587</td>\n",
       "    </tr>\n",
       "    <tr>\n",
       "      <th>8</th>\n",
       "      <td>0.064485</td>\n",
       "      <td>0.788724</td>\n",
       "      <td>0.221484</td>\n",
       "    </tr>\n",
       "    <tr>\n",
       "      <th>9</th>\n",
       "      <td>0.920977</td>\n",
       "      <td>0.950163</td>\n",
       "      <td>0.430231</td>\n",
       "    </tr>\n",
       "  </tbody>\n",
       "</table>\n",
       "</div>"
      ],
      "text/plain": [
       "          B         C         A\n",
       "0  0.601053  0.751396  0.158921\n",
       "1  0.099213  0.139086  0.563394\n",
       "2  0.412797  0.751086  0.317210\n",
       "3  0.669117  0.373708  0.567281\n",
       "4  0.908060  0.481143  0.238285\n",
       "5  0.786212  0.431935  0.649004\n",
       "6  0.864169  0.245617  0.779897\n",
       "7  0.819227  0.302002  0.337587\n",
       "8  0.064485  0.788724  0.221484\n",
       "9  0.920977  0.950163  0.430231"
      ]
     },
     "execution_count": 25,
     "metadata": {},
     "output_type": "execute_result"
    }
   ],
   "source": [
    "# 2\n",
    "df.loc[:,['B','C','A']]"
   ]
  },
  {
   "cell_type": "code",
   "execution_count": 61,
   "metadata": {},
   "outputs": [
    {
     "data": {
      "text/html": [
       "<div>\n",
       "<style scoped>\n",
       "    .dataframe tbody tr th:only-of-type {\n",
       "        vertical-align: middle;\n",
       "    }\n",
       "\n",
       "    .dataframe tbody tr th {\n",
       "        vertical-align: top;\n",
       "    }\n",
       "\n",
       "    .dataframe thead th {\n",
       "        text-align: right;\n",
       "    }\n",
       "</style>\n",
       "<table border=\"1\" class=\"dataframe\">\n",
       "  <thead>\n",
       "    <tr style=\"text-align: right;\">\n",
       "      <th></th>\n",
       "      <th>B</th>\n",
       "      <th>C</th>\n",
       "      <th>A</th>\n",
       "    </tr>\n",
       "  </thead>\n",
       "  <tbody>\n",
       "    <tr>\n",
       "      <th>0</th>\n",
       "      <td>0.601053</td>\n",
       "      <td>0.751396</td>\n",
       "      <td>0.158921</td>\n",
       "    </tr>\n",
       "    <tr>\n",
       "      <th>1</th>\n",
       "      <td>0.099213</td>\n",
       "      <td>0.139086</td>\n",
       "      <td>0.563394</td>\n",
       "    </tr>\n",
       "    <tr>\n",
       "      <th>2</th>\n",
       "      <td>0.412797</td>\n",
       "      <td>0.751086</td>\n",
       "      <td>0.317210</td>\n",
       "    </tr>\n",
       "    <tr>\n",
       "      <th>3</th>\n",
       "      <td>0.669117</td>\n",
       "      <td>0.373708</td>\n",
       "      <td>0.567281</td>\n",
       "    </tr>\n",
       "    <tr>\n",
       "      <th>4</th>\n",
       "      <td>0.908060</td>\n",
       "      <td>0.481143</td>\n",
       "      <td>0.238285</td>\n",
       "    </tr>\n",
       "    <tr>\n",
       "      <th>5</th>\n",
       "      <td>0.786212</td>\n",
       "      <td>0.431935</td>\n",
       "      <td>0.649004</td>\n",
       "    </tr>\n",
       "    <tr>\n",
       "      <th>6</th>\n",
       "      <td>0.864169</td>\n",
       "      <td>0.245617</td>\n",
       "      <td>0.779897</td>\n",
       "    </tr>\n",
       "    <tr>\n",
       "      <th>7</th>\n",
       "      <td>0.819227</td>\n",
       "      <td>0.302002</td>\n",
       "      <td>0.337587</td>\n",
       "    </tr>\n",
       "    <tr>\n",
       "      <th>8</th>\n",
       "      <td>0.064485</td>\n",
       "      <td>0.788724</td>\n",
       "      <td>0.221484</td>\n",
       "    </tr>\n",
       "    <tr>\n",
       "      <th>9</th>\n",
       "      <td>0.920977</td>\n",
       "      <td>0.950163</td>\n",
       "      <td>0.430231</td>\n",
       "    </tr>\n",
       "  </tbody>\n",
       "</table>\n",
       "</div>"
      ],
      "text/plain": [
       "          B         C         A\n",
       "0  0.601053  0.751396  0.158921\n",
       "1  0.099213  0.139086  0.563394\n",
       "2  0.412797  0.751086  0.317210\n",
       "3  0.669117  0.373708  0.567281\n",
       "4  0.908060  0.481143  0.238285\n",
       "5  0.786212  0.431935  0.649004\n",
       "6  0.864169  0.245617  0.779897\n",
       "7  0.819227  0.302002  0.337587\n",
       "8  0.064485  0.788724  0.221484\n",
       "9  0.920977  0.950163  0.430231"
      ]
     },
     "execution_count": 61,
     "metadata": {},
     "output_type": "execute_result"
    }
   ],
   "source": [
    "# 3\n",
    "df.iloc[:,[1,2,0]]"
   ]
  },
  {
   "cell_type": "code",
   "execution_count": null,
   "metadata": {},
   "outputs": [],
   "source": []
  },
  {
   "cell_type": "code",
   "execution_count": null,
   "metadata": {},
   "outputs": [],
   "source": []
  },
  {
   "cell_type": "code",
   "execution_count": null,
   "metadata": {},
   "outputs": [],
   "source": []
  },
  {
   "cell_type": "markdown",
   "metadata": {},
   "source": [
    "#### 2. 주어진 행렬의 각 원소 값을 해당 열의 평균 값으로 빼기\n",
    "- Numpy.mean() 함수와 브로드캐스팅 기능 사용"
   ]
  },
  {
   "cell_type": "code",
   "execution_count": 62,
   "metadata": {},
   "outputs": [
    {
     "data": {
      "text/plain": [
       "array([[1, 2, 4, 4, 1, 0],\n",
       "       [4, 2, 3, 0, 0, 3],\n",
       "       [0, 4, 2, 3, 1, 2],\n",
       "       [2, 1, 1, 2, 0, 2],\n",
       "       [0, 2, 1, 3, 0, 1]])"
      ]
     },
     "execution_count": 62,
     "metadata": {},
     "output_type": "execute_result"
    }
   ],
   "source": [
    "A = np.array(np.random.randint(0, 5, size=(5, 6)))\n",
    "A"
   ]
  },
  {
   "cell_type": "code",
   "execution_count": 64,
   "metadata": {},
   "outputs": [
    {
     "data": {
      "text/plain": [
       "array([2.        , 2.        , 2.        , 1.33333333, 1.16666667])"
      ]
     },
     "execution_count": 64,
     "metadata": {},
     "output_type": "execute_result"
    }
   ],
   "source": [
    "mean = np.mean(A, axis = 1)\n",
    "mean"
   ]
  },
  {
   "cell_type": "code",
   "execution_count": 66,
   "metadata": {},
   "outputs": [
    {
     "ename": "ValueError",
     "evalue": "operands could not be broadcast together with shapes (5,6) (5,) ",
     "output_type": "error",
     "traceback": [
      "\u001b[1;31m---------------------------------------------------------------------------\u001b[0m",
      "\u001b[1;31mValueError\u001b[0m                                Traceback (most recent call last)",
      "\u001b[1;32m<ipython-input-66-17609f622523>\u001b[0m in \u001b[0;36m<module>\u001b[1;34m\u001b[0m\n\u001b[1;32m----> 1\u001b[1;33m \u001b[0mnp\u001b[0m\u001b[1;33m.\u001b[0m\u001b[0mdiff\u001b[0m\u001b[1;33m(\u001b[0m\u001b[0mA\u001b[0m\u001b[1;33m-\u001b[0m\u001b[0mmean\u001b[0m\u001b[1;33m)\u001b[0m\u001b[1;33m\u001b[0m\u001b[1;33m\u001b[0m\u001b[0m\n\u001b[0m",
      "\u001b[1;31mValueError\u001b[0m: operands could not be broadcast together with shapes (5,6) (5,) "
     ]
    }
   ],
   "source": [
    "np.diff(A-mean)"
   ]
  },
  {
   "cell_type": "code",
   "execution_count": null,
   "metadata": {},
   "outputs": [],
   "source": []
  }
 ],
 "metadata": {
  "kernelspec": {
   "display_name": "Python 3",
   "language": "python",
   "name": "python3"
  },
  "language_info": {
   "codemirror_mode": {
    "name": "ipython",
    "version": 3
   },
   "file_extension": ".py",
   "mimetype": "text/x-python",
   "name": "python",
   "nbconvert_exporter": "python",
   "pygments_lexer": "ipython3",
   "version": "3.8.8"
  }
 },
 "nbformat": 4,
 "nbformat_minor": 4
}
