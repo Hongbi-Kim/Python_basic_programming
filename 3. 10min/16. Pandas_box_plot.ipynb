{
 "cells": [
  {
   "cell_type": "markdown",
   "id": "80c0cd33",
   "metadata": {},
   "source": [
    "## Box plot\n",
    "1. 최소값\n",
    "2. 제1사분위수\n",
    "3. 제2사분위수. 중앙값\n",
    "4. 제3사분위수\n",
    "5. 최대값"
   ]
  },
  {
   "cell_type": "code",
   "execution_count": 1,
   "id": "5f64bdbc",
   "metadata": {},
   "outputs": [],
   "source": [
    "import pandas as pd\n",
    "import numpy as np\n",
    "import matplotlib.pyplot as plt\n",
    "import matplotlib as mpl\n",
    "\n",
    "%matplotlib inline\n",
    "\n",
    "# 한글폰트 사용 시 그래프에서 마이너스 폰트 깨지는 문제에 대한 대처\n",
    "mpl.rcParams['axes.unicode_minus'] = False"
   ]
  },
  {
   "cell_type": "code",
   "execution_count": 15,
   "id": "73b09d3f",
   "metadata": {},
   "outputs": [],
   "source": [
    "df = pd.DataFrame(np.random.rand(10,5), columns = ['A','B','C','D','E'])\n",
    "# 10개의 행과 5개의 열을 가진 데이터 생성"
   ]
  },
  {
   "cell_type": "code",
   "execution_count": 16,
   "id": "2e590a64",
   "metadata": {},
   "outputs": [
    {
     "data": {
      "text/html": [
       "<div>\n",
       "<style scoped>\n",
       "    .dataframe tbody tr th:only-of-type {\n",
       "        vertical-align: middle;\n",
       "    }\n",
       "\n",
       "    .dataframe tbody tr th {\n",
       "        vertical-align: top;\n",
       "    }\n",
       "\n",
       "    .dataframe thead th {\n",
       "        text-align: right;\n",
       "    }\n",
       "</style>\n",
       "<table border=\"1\" class=\"dataframe\">\n",
       "  <thead>\n",
       "    <tr style=\"text-align: right;\">\n",
       "      <th></th>\n",
       "      <th>A</th>\n",
       "      <th>B</th>\n",
       "      <th>C</th>\n",
       "      <th>D</th>\n",
       "      <th>E</th>\n",
       "    </tr>\n",
       "  </thead>\n",
       "  <tbody>\n",
       "    <tr>\n",
       "      <th>0</th>\n",
       "      <td>0.758648</td>\n",
       "      <td>0.796195</td>\n",
       "      <td>0.859188</td>\n",
       "      <td>0.457742</td>\n",
       "      <td>0.532548</td>\n",
       "    </tr>\n",
       "    <tr>\n",
       "      <th>1</th>\n",
       "      <td>0.371097</td>\n",
       "      <td>0.205380</td>\n",
       "      <td>0.899558</td>\n",
       "      <td>0.465908</td>\n",
       "      <td>0.766932</td>\n",
       "    </tr>\n",
       "    <tr>\n",
       "      <th>2</th>\n",
       "      <td>0.162260</td>\n",
       "      <td>0.225614</td>\n",
       "      <td>0.835498</td>\n",
       "      <td>0.035243</td>\n",
       "      <td>0.760347</td>\n",
       "    </tr>\n",
       "    <tr>\n",
       "      <th>3</th>\n",
       "      <td>0.508495</td>\n",
       "      <td>0.306096</td>\n",
       "      <td>0.447476</td>\n",
       "      <td>0.966735</td>\n",
       "      <td>0.904373</td>\n",
       "    </tr>\n",
       "    <tr>\n",
       "      <th>4</th>\n",
       "      <td>0.214736</td>\n",
       "      <td>0.603712</td>\n",
       "      <td>0.821221</td>\n",
       "      <td>0.236342</td>\n",
       "      <td>0.350179</td>\n",
       "    </tr>\n",
       "  </tbody>\n",
       "</table>\n",
       "</div>"
      ],
      "text/plain": [
       "          A         B         C         D         E\n",
       "0  0.758648  0.796195  0.859188  0.457742  0.532548\n",
       "1  0.371097  0.205380  0.899558  0.465908  0.766932\n",
       "2  0.162260  0.225614  0.835498  0.035243  0.760347\n",
       "3  0.508495  0.306096  0.447476  0.966735  0.904373\n",
       "4  0.214736  0.603712  0.821221  0.236342  0.350179"
      ]
     },
     "execution_count": 16,
     "metadata": {},
     "output_type": "execute_result"
    }
   ],
   "source": [
    "df.head()"
   ]
  },
  {
   "cell_type": "code",
   "execution_count": 17,
   "id": "6f526e99",
   "metadata": {},
   "outputs": [
    {
     "data": {
      "text/html": [
       "<div>\n",
       "<style scoped>\n",
       "    .dataframe tbody tr th:only-of-type {\n",
       "        vertical-align: middle;\n",
       "    }\n",
       "\n",
       "    .dataframe tbody tr th {\n",
       "        vertical-align: top;\n",
       "    }\n",
       "\n",
       "    .dataframe thead th {\n",
       "        text-align: right;\n",
       "    }\n",
       "</style>\n",
       "<table border=\"1\" class=\"dataframe\">\n",
       "  <thead>\n",
       "    <tr style=\"text-align: right;\">\n",
       "      <th></th>\n",
       "      <th>A</th>\n",
       "      <th>B</th>\n",
       "      <th>C</th>\n",
       "      <th>D</th>\n",
       "      <th>E</th>\n",
       "    </tr>\n",
       "  </thead>\n",
       "  <tbody>\n",
       "    <tr>\n",
       "      <th>count</th>\n",
       "      <td>10.000000</td>\n",
       "      <td>10.000000</td>\n",
       "      <td>10.000000</td>\n",
       "      <td>10.000000</td>\n",
       "      <td>10.000000</td>\n",
       "    </tr>\n",
       "    <tr>\n",
       "      <th>mean</th>\n",
       "      <td>0.416708</td>\n",
       "      <td>0.502508</td>\n",
       "      <td>0.797477</td>\n",
       "      <td>0.453411</td>\n",
       "      <td>0.608594</td>\n",
       "    </tr>\n",
       "    <tr>\n",
       "      <th>std</th>\n",
       "      <td>0.192735</td>\n",
       "      <td>0.272793</td>\n",
       "      <td>0.234845</td>\n",
       "      <td>0.360253</td>\n",
       "      <td>0.199257</td>\n",
       "    </tr>\n",
       "    <tr>\n",
       "      <th>min</th>\n",
       "      <td>0.162260</td>\n",
       "      <td>0.179901</td>\n",
       "      <td>0.302869</td>\n",
       "      <td>0.015401</td>\n",
       "      <td>0.338377</td>\n",
       "    </tr>\n",
       "    <tr>\n",
       "      <th>25%</th>\n",
       "      <td>0.296344</td>\n",
       "      <td>0.245735</td>\n",
       "      <td>0.824790</td>\n",
       "      <td>0.239039</td>\n",
       "      <td>0.445499</td>\n",
       "    </tr>\n",
       "    <tr>\n",
       "      <th>50%</th>\n",
       "      <td>0.388904</td>\n",
       "      <td>0.529495</td>\n",
       "      <td>0.849172</td>\n",
       "      <td>0.378464</td>\n",
       "      <td>0.625626</td>\n",
       "    </tr>\n",
       "    <tr>\n",
       "      <th>75%</th>\n",
       "      <td>0.498477</td>\n",
       "      <td>0.643090</td>\n",
       "      <td>0.960801</td>\n",
       "      <td>0.728432</td>\n",
       "      <td>0.764171</td>\n",
       "    </tr>\n",
       "    <tr>\n",
       "      <th>max</th>\n",
       "      <td>0.758648</td>\n",
       "      <td>0.992973</td>\n",
       "      <td>0.997700</td>\n",
       "      <td>0.994485</td>\n",
       "      <td>0.904373</td>\n",
       "    </tr>\n",
       "  </tbody>\n",
       "</table>\n",
       "</div>"
      ],
      "text/plain": [
       "               A          B          C          D          E\n",
       "count  10.000000  10.000000  10.000000  10.000000  10.000000\n",
       "mean    0.416708   0.502508   0.797477   0.453411   0.608594\n",
       "std     0.192735   0.272793   0.234845   0.360253   0.199257\n",
       "min     0.162260   0.179901   0.302869   0.015401   0.338377\n",
       "25%     0.296344   0.245735   0.824790   0.239039   0.445499\n",
       "50%     0.388904   0.529495   0.849172   0.378464   0.625626\n",
       "75%     0.498477   0.643090   0.960801   0.728432   0.764171\n",
       "max     0.758648   0.992973   0.997700   0.994485   0.904373"
      ]
     },
     "execution_count": 17,
     "metadata": {},
     "output_type": "execute_result"
    }
   ],
   "source": [
    "df.describe()"
   ]
  },
  {
   "cell_type": "code",
   "execution_count": 18,
   "id": "a5e15fc6",
   "metadata": {},
   "outputs": [
    {
     "data": {
      "image/png": "[encoded data removed]",
      "text/plain": [
       "<Figure size 432x288 with 1 Axes>"
      ]
     },
     "metadata": {
      "needs_background": "light"
     },
     "output_type": "display_data"
    }
   ],
   "source": [
    "df.plot.box()\n",
    "plt.show()"
   ]
  },
  {
   "cell_type": "code",
   "execution_count": 19,
   "id": "cf56969e",
   "metadata": {},
   "outputs": [],
   "source": [
    "color = {'boxes':'DarkGreen', 'whiskers':'DarkOrange',\n",
    "        'medians':'DarkBlue', 'caps':'Gray'}\n",
    "# box는 dark green 색으로, whisker(수염)은 dark orange 색으로\n",
    "# median(중위수)는 dark blue 색으로, caps(최대, 최소값)은 gray색으로"
   ]
  },
  {
   "cell_type": "code",
   "execution_count": 20,
   "id": "907a130a",
   "metadata": {},
   "outputs": [
    {
     "data": {
      "text/plain": [
       "<AxesSubplot:>"
      ]
     },
     "execution_count": 20,
     "metadata": {},
     "output_type": "execute_result"
    },
    {
     "data": {
      "image/png": "[encoded data removed]",
      "text/plain": [
       "<Figure size 432x288 with 1 Axes>"
      ]
     },
     "metadata": {
      "needs_background": "light"
     },
     "output_type": "display_data"
    }
   ],
   "source": [
    "df.plot.box(color=color, sym = 'r+')\n",
    "# sym = 'r+': symbol은 빨간색 + 형태로 표현하라는 옵션"
   ]
  },
  {
   "cell_type": "code",
   "execution_count": 21,
   "id": "4d1c2c74",
   "metadata": {},
   "outputs": [
    {
     "data": {
      "text/plain": [
       "<AxesSubplot:>"
      ]
     },
     "execution_count": 21,
     "metadata": {},
     "output_type": "execute_result"
    },
    {
     "data": {
      "image/png": "[encoded data removed]",
      "text/plain": [
       "<Figure size 432x288 with 1 Axes>"
      ]
     },
     "metadata": {
      "needs_background": "light"
     },
     "output_type": "display_data"
    }
   ],
   "source": [
    "df.plot.box(vert = False, positions = [1,4,5,6,8])\n",
    "# vert = False : vertical (수직 방향)이 아니게 표현"
   ]
  },
  {
   "cell_type": "code",
   "execution_count": 22,
   "id": "97509462",
   "metadata": {},
   "outputs": [],
   "source": [
    "df = pd.DataFrame(np.random.rand(10,5))"
   ]
  },
  {
   "cell_type": "code",
   "execution_count": 23,
   "id": "5814acb0",
   "metadata": {},
   "outputs": [
    {
     "data": {
      "text/html": [
       "<div>\n",
       "<style scoped>\n",
       "    .dataframe tbody tr th:only-of-type {\n",
       "        vertical-align: middle;\n",
       "    }\n",
       "\n",
       "    .dataframe tbody tr th {\n",
       "        vertical-align: top;\n",
       "    }\n",
       "\n",
       "    .dataframe thead th {\n",
       "        text-align: right;\n",
       "    }\n",
       "</style>\n",
       "<table border=\"1\" class=\"dataframe\">\n",
       "  <thead>\n",
       "    <tr style=\"text-align: right;\">\n",
       "      <th></th>\n",
       "      <th>0</th>\n",
       "      <th>1</th>\n",
       "      <th>2</th>\n",
       "      <th>3</th>\n",
       "      <th>4</th>\n",
       "    </tr>\n",
       "  </thead>\n",
       "  <tbody>\n",
       "    <tr>\n",
       "      <th>0</th>\n",
       "      <td>0.498527</td>\n",
       "      <td>0.316744</td>\n",
       "      <td>0.998838</td>\n",
       "      <td>0.755018</td>\n",
       "      <td>0.730173</td>\n",
       "    </tr>\n",
       "  </tbody>\n",
       "</table>\n",
       "</div>"
      ],
      "text/plain": [
       "          0         1         2         3         4\n",
       "0  0.498527  0.316744  0.998838  0.755018  0.730173"
      ]
     },
     "execution_count": 23,
     "metadata": {},
     "output_type": "execute_result"
    }
   ],
   "source": [
    "df.head(1)"
   ]
  },
  {
   "cell_type": "code",
   "execution_count": 25,
   "id": "763e2671",
   "metadata": {},
   "outputs": [
    {
     "data": {
      "image/png": "[encoded data removed]",
      "text/plain": [
       "<Figure size 432x288 with 1 Axes>"
      ]
     },
     "metadata": {
      "needs_background": "light"
     },
     "output_type": "display_data"
    }
   ],
   "source": [
    "bp = df.boxplot()\n",
    "# grid가 나타나게 그래프를 그려줌"
   ]
  },
  {
   "cell_type": "code",
   "execution_count": 26,
   "id": "b98f7518",
   "metadata": {},
   "outputs": [
    {
     "data": {
      "text/html": [
       "<div>\n",
       "<style scoped>\n",
       "    .dataframe tbody tr th:only-of-type {\n",
       "        vertical-align: middle;\n",
       "    }\n",
       "\n",
       "    .dataframe tbody tr th {\n",
       "        vertical-align: top;\n",
       "    }\n",
       "\n",
       "    .dataframe thead th {\n",
       "        text-align: right;\n",
       "    }\n",
       "</style>\n",
       "<table border=\"1\" class=\"dataframe\">\n",
       "  <thead>\n",
       "    <tr style=\"text-align: right;\">\n",
       "      <th></th>\n",
       "      <th>Col1</th>\n",
       "      <th>Col2</th>\n",
       "    </tr>\n",
       "  </thead>\n",
       "  <tbody>\n",
       "    <tr>\n",
       "      <th>0</th>\n",
       "      <td>0.90506</td>\n",
       "      <td>0.888443</td>\n",
       "    </tr>\n",
       "    <tr>\n",
       "      <th>1</th>\n",
       "      <td>0.37636</td>\n",
       "      <td>0.153547</td>\n",
       "    </tr>\n",
       "  </tbody>\n",
       "</table>\n",
       "</div>"
      ],
      "text/plain": [
       "      Col1      Col2\n",
       "0  0.90506  0.888443\n",
       "1  0.37636  0.153547"
      ]
     },
     "execution_count": 26,
     "metadata": {},
     "output_type": "execute_result"
    }
   ],
   "source": [
    "df = pd.DataFrame(np.random.rand(10,2), columns = ['Col1','Col2'])\n",
    "df.head(2)"
   ]
  },
  {
   "cell_type": "code",
   "execution_count": 27,
   "id": "33869dd2",
   "metadata": {},
   "outputs": [
    {
     "data": {
      "text/html": [
       "<div>\n",
       "<style scoped>\n",
       "    .dataframe tbody tr th:only-of-type {\n",
       "        vertical-align: middle;\n",
       "    }\n",
       "\n",
       "    .dataframe tbody tr th {\n",
       "        vertical-align: top;\n",
       "    }\n",
       "\n",
       "    .dataframe thead th {\n",
       "        text-align: right;\n",
       "    }\n",
       "</style>\n",
       "<table border=\"1\" class=\"dataframe\">\n",
       "  <thead>\n",
       "    <tr style=\"text-align: right;\">\n",
       "      <th></th>\n",
       "      <th>Col1</th>\n",
       "      <th>Col2</th>\n",
       "      <th>X</th>\n",
       "    </tr>\n",
       "  </thead>\n",
       "  <tbody>\n",
       "    <tr>\n",
       "      <th>0</th>\n",
       "      <td>0.90506</td>\n",
       "      <td>0.888443</td>\n",
       "      <td>A</td>\n",
       "    </tr>\n",
       "    <tr>\n",
       "      <th>1</th>\n",
       "      <td>0.37636</td>\n",
       "      <td>0.153547</td>\n",
       "      <td>A</td>\n",
       "    </tr>\n",
       "  </tbody>\n",
       "</table>\n",
       "</div>"
      ],
      "text/plain": [
       "      Col1      Col2  X\n",
       "0  0.90506  0.888443  A\n",
       "1  0.37636  0.153547  A"
      ]
     },
     "execution_count": 27,
     "metadata": {},
     "output_type": "execute_result"
    }
   ],
   "source": [
    "df['X'] = pd.Series(['A','A','A','A','A','B','B','B','B','B'])\n",
    "df.head(2)"
   ]
  },
  {
   "cell_type": "code",
   "execution_count": 28,
   "id": "f8a28059",
   "metadata": {},
   "outputs": [
    {
     "data": {
      "image/png": "[encoded data removed]",
      "text/plain": [
       "<Figure size 432x288 with 2 Axes>"
      ]
     },
     "metadata": {
      "needs_background": "light"
     },
     "output_type": "display_data"
    }
   ],
   "source": [
    "bp = df.boxplot(by = 'X')"
   ]
  },
  {
   "cell_type": "code",
   "execution_count": 29,
   "id": "f6000662",
   "metadata": {},
   "outputs": [],
   "source": [
    "np.random.seed(1234)\n",
    "# seed 값을 주어 난수가 계속 변하지 않게 값을 고정함"
   ]
  },
  {
   "cell_type": "code",
   "execution_count": 30,
   "id": "3e192956",
   "metadata": {},
   "outputs": [],
   "source": [
    "df_box = pd.DataFrame(np.random.randn(50,2))"
   ]
  },
  {
   "cell_type": "code",
   "execution_count": 31,
   "id": "a2f049a1",
   "metadata": {},
   "outputs": [
    {
     "data": {
      "text/html": [
       "<div>\n",
       "<style scoped>\n",
       "    .dataframe tbody tr th:only-of-type {\n",
       "        vertical-align: middle;\n",
       "    }\n",
       "\n",
       "    .dataframe tbody tr th {\n",
       "        vertical-align: top;\n",
       "    }\n",
       "\n",
       "    .dataframe thead th {\n",
       "        text-align: right;\n",
       "    }\n",
       "</style>\n",
       "<table border=\"1\" class=\"dataframe\">\n",
       "  <thead>\n",
       "    <tr style=\"text-align: right;\">\n",
       "      <th></th>\n",
       "      <th>0</th>\n",
       "      <th>1</th>\n",
       "    </tr>\n",
       "  </thead>\n",
       "  <tbody>\n",
       "    <tr>\n",
       "      <th>0</th>\n",
       "      <td>0.471435</td>\n",
       "      <td>-1.190976</td>\n",
       "    </tr>\n",
       "    <tr>\n",
       "      <th>1</th>\n",
       "      <td>1.432707</td>\n",
       "      <td>-0.312652</td>\n",
       "    </tr>\n",
       "    <tr>\n",
       "      <th>2</th>\n",
       "      <td>-0.720589</td>\n",
       "      <td>0.887163</td>\n",
       "    </tr>\n",
       "    <tr>\n",
       "      <th>3</th>\n",
       "      <td>0.859588</td>\n",
       "      <td>-0.636524</td>\n",
       "    </tr>\n",
       "    <tr>\n",
       "      <th>4</th>\n",
       "      <td>0.015696</td>\n",
       "      <td>-2.242685</td>\n",
       "    </tr>\n",
       "  </tbody>\n",
       "</table>\n",
       "</div>"
      ],
      "text/plain": [
       "          0         1\n",
       "0  0.471435 -1.190976\n",
       "1  1.432707 -0.312652\n",
       "2 -0.720589  0.887163\n",
       "3  0.859588 -0.636524\n",
       "4  0.015696 -2.242685"
      ]
     },
     "execution_count": 31,
     "metadata": {},
     "output_type": "execute_result"
    }
   ],
   "source": [
    "df_box.head()"
   ]
  },
  {
   "cell_type": "code",
   "execution_count": 32,
   "id": "1f26d445",
   "metadata": {},
   "outputs": [
    {
     "data": {
      "text/plain": [
       "0    A\n",
       "1    A\n",
       "2    B\n",
       "3    A\n",
       "4    B\n",
       "Name: g, dtype: object"
      ]
     },
     "execution_count": 32,
     "metadata": {},
     "output_type": "execute_result"
    }
   ],
   "source": [
    "df_box['g'] = np.random.choice(['A','B'], size = 50)\n",
    "df_box['g'].head()"
   ]
  },
  {
   "cell_type": "code",
   "execution_count": 33,
   "id": "409fe464",
   "metadata": {},
   "outputs": [],
   "source": [
    "df_box.loc[df_box['g'] == 'B',1] += 3"
   ]
  },
  {
   "cell_type": "code",
   "execution_count": 35,
   "id": "84dbbaee",
   "metadata": {},
   "outputs": [
    {
     "data": {
      "text/plain": [
       "array([<AxesSubplot:title={'center':'0'}, xlabel='[g]'>,\n",
       "       <AxesSubplot:title={'center':'1'}, xlabel='[g]'>], dtype=object)"
      ]
     },
     "execution_count": 35,
     "metadata": {},
     "output_type": "execute_result"
    },
    {
     "data": {
      "image/png": "[encoded data removed]",
      "text/plain": [
       "<Figure size 432x288 with 2 Axes>"
      ]
     },
     "metadata": {
      "needs_background": "light"
     },
     "output_type": "display_data"
    }
   ],
   "source": [
    "df_box.boxplot(by = 'g')"
   ]
  },
  {
   "cell_type": "code",
   "execution_count": 36,
   "id": "165e6a28",
   "metadata": {},
   "outputs": [
    {
     "data": {
      "image/png": "[encoded data removed]",
      "text/plain": [
       "<Figure size 432x288 with 2 Axes>"
      ]
     },
     "metadata": {
      "needs_background": "light"
     },
     "output_type": "display_data"
    }
   ],
   "source": [
    "bp = df_box.groupby('g').boxplot()"
   ]
  },
  {
   "cell_type": "code",
   "execution_count": null,
   "id": "44a4864b",
   "metadata": {},
   "outputs": [],
   "source": []
  }
 ],
 "metadata": {
  "kernelspec": {
   "display_name": "Python 3",
   "language": "python",
   "name": "python3"
  },
  "language_info": {
   "codemirror_mode": {
    "name": "ipython",
    "version": 3
   },
   "file_extension": ".py",
   "mimetype": "text/x-python",
   "name": "python",
   "nbconvert_exporter": "python",
   "pygments_lexer": "ipython3",
   "version": "3.8.8"
  }
 },
 "nbformat": 4,
 "nbformat_minor": 5
}
