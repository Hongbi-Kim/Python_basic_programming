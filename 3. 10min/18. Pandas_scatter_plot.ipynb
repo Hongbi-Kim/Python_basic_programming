{
 "cells": [
  {
   "cell_type": "markdown",
   "id": "a110a107",
   "metadata": {},
   "source": [
    "## Scatter plot\n",
    "- 산점도"
   ]
  },
  {
   "cell_type": "code",
   "execution_count": 1,
   "id": "ee6f11de",
   "metadata": {},
   "outputs": [],
   "source": [
    "import pandas as pd\n",
    "import numpy as np\n",
    "import matplotlib.pyplot as plt\n",
    "import matplotlib as mpl\n",
    "\n",
    "%matplotlib inline\n",
    "\n",
    "# 한글폰트 사용 시 그래프에서 마이너스 폰트 깨지는 문제에 대한 대처\n",
    "mpl.rcParams['axes.unicode_minus'] = False"
   ]
  },
  {
   "cell_type": "code",
   "execution_count": 2,
   "id": "9b7e61fe",
   "metadata": {
    "scrolled": true
   },
   "outputs": [
    {
     "data": {
      "text/html": [
       "<div>\n",
       "<style scoped>\n",
       "    .dataframe tbody tr th:only-of-type {\n",
       "        vertical-align: middle;\n",
       "    }\n",
       "\n",
       "    .dataframe tbody tr th {\n",
       "        vertical-align: top;\n",
       "    }\n",
       "\n",
       "    .dataframe thead th {\n",
       "        text-align: right;\n",
       "    }\n",
       "</style>\n",
       "<table border=\"1\" class=\"dataframe\">\n",
       "  <thead>\n",
       "    <tr style=\"text-align: right;\">\n",
       "      <th></th>\n",
       "      <th>a</th>\n",
       "      <th>b</th>\n",
       "      <th>c</th>\n",
       "      <th>d</th>\n",
       "    </tr>\n",
       "  </thead>\n",
       "  <tbody>\n",
       "    <tr>\n",
       "      <th>0</th>\n",
       "      <td>0.829154</td>\n",
       "      <td>0.944474</td>\n",
       "      <td>0.245856</td>\n",
       "      <td>0.971671</td>\n",
       "    </tr>\n",
       "    <tr>\n",
       "      <th>1</th>\n",
       "      <td>0.778199</td>\n",
       "      <td>0.255959</td>\n",
       "      <td>0.809233</td>\n",
       "      <td>0.597755</td>\n",
       "    </tr>\n",
       "    <tr>\n",
       "      <th>2</th>\n",
       "      <td>0.726084</td>\n",
       "      <td>0.149831</td>\n",
       "      <td>0.425386</td>\n",
       "      <td>0.756467</td>\n",
       "    </tr>\n",
       "    <tr>\n",
       "      <th>3</th>\n",
       "      <td>0.619844</td>\n",
       "      <td>0.137499</td>\n",
       "      <td>0.139120</td>\n",
       "      <td>0.809495</td>\n",
       "    </tr>\n",
       "    <tr>\n",
       "      <th>4</th>\n",
       "      <td>0.802864</td>\n",
       "      <td>0.665924</td>\n",
       "      <td>0.646912</td>\n",
       "      <td>0.904858</td>\n",
       "    </tr>\n",
       "    <tr>\n",
       "      <th>5</th>\n",
       "      <td>0.133176</td>\n",
       "      <td>0.050110</td>\n",
       "      <td>0.107310</td>\n",
       "      <td>0.282186</td>\n",
       "    </tr>\n",
       "    <tr>\n",
       "      <th>6</th>\n",
       "      <td>0.607466</td>\n",
       "      <td>0.218037</td>\n",
       "      <td>0.053896</td>\n",
       "      <td>0.783852</td>\n",
       "    </tr>\n",
       "    <tr>\n",
       "      <th>7</th>\n",
       "      <td>0.091018</td>\n",
       "      <td>0.823582</td>\n",
       "      <td>0.616312</td>\n",
       "      <td>0.660038</td>\n",
       "    </tr>\n",
       "    <tr>\n",
       "      <th>8</th>\n",
       "      <td>0.091257</td>\n",
       "      <td>0.099431</td>\n",
       "      <td>0.196626</td>\n",
       "      <td>0.839516</td>\n",
       "    </tr>\n",
       "    <tr>\n",
       "      <th>9</th>\n",
       "      <td>0.125040</td>\n",
       "      <td>0.010373</td>\n",
       "      <td>0.401213</td>\n",
       "      <td>0.531654</td>\n",
       "    </tr>\n",
       "    <tr>\n",
       "      <th>10</th>\n",
       "      <td>0.488075</td>\n",
       "      <td>0.137965</td>\n",
       "      <td>0.973055</td>\n",
       "      <td>0.510535</td>\n",
       "    </tr>\n",
       "    <tr>\n",
       "      <th>11</th>\n",
       "      <td>0.066729</td>\n",
       "      <td>0.212449</td>\n",
       "      <td>0.186181</td>\n",
       "      <td>0.047351</td>\n",
       "    </tr>\n",
       "    <tr>\n",
       "      <th>12</th>\n",
       "      <td>0.418392</td>\n",
       "      <td>0.409734</td>\n",
       "      <td>0.821821</td>\n",
       "      <td>0.538474</td>\n",
       "    </tr>\n",
       "    <tr>\n",
       "      <th>13</th>\n",
       "      <td>0.528656</td>\n",
       "      <td>0.125330</td>\n",
       "      <td>0.499113</td>\n",
       "      <td>0.671041</td>\n",
       "    </tr>\n",
       "    <tr>\n",
       "      <th>14</th>\n",
       "      <td>0.872012</td>\n",
       "      <td>0.747897</td>\n",
       "      <td>0.758876</td>\n",
       "      <td>0.123317</td>\n",
       "    </tr>\n",
       "    <tr>\n",
       "      <th>15</th>\n",
       "      <td>0.313626</td>\n",
       "      <td>0.022394</td>\n",
       "      <td>0.016802</td>\n",
       "      <td>0.239444</td>\n",
       "    </tr>\n",
       "    <tr>\n",
       "      <th>16</th>\n",
       "      <td>0.773824</td>\n",
       "      <td>0.962036</td>\n",
       "      <td>0.419643</td>\n",
       "      <td>0.733273</td>\n",
       "    </tr>\n",
       "    <tr>\n",
       "      <th>17</th>\n",
       "      <td>0.775023</td>\n",
       "      <td>0.291609</td>\n",
       "      <td>0.099711</td>\n",
       "      <td>0.868076</td>\n",
       "    </tr>\n",
       "    <tr>\n",
       "      <th>18</th>\n",
       "      <td>0.627828</td>\n",
       "      <td>0.308965</td>\n",
       "      <td>0.676657</td>\n",
       "      <td>0.454132</td>\n",
       "    </tr>\n",
       "    <tr>\n",
       "      <th>19</th>\n",
       "      <td>0.564760</td>\n",
       "      <td>0.554960</td>\n",
       "      <td>0.180032</td>\n",
       "      <td>0.726636</td>\n",
       "    </tr>\n",
       "    <tr>\n",
       "      <th>20</th>\n",
       "      <td>0.968964</td>\n",
       "      <td>0.508576</td>\n",
       "      <td>0.488339</td>\n",
       "      <td>0.757822</td>\n",
       "    </tr>\n",
       "    <tr>\n",
       "      <th>21</th>\n",
       "      <td>0.456740</td>\n",
       "      <td>0.875726</td>\n",
       "      <td>0.795516</td>\n",
       "      <td>0.472015</td>\n",
       "    </tr>\n",
       "    <tr>\n",
       "      <th>22</th>\n",
       "      <td>0.036053</td>\n",
       "      <td>0.719664</td>\n",
       "      <td>0.657365</td>\n",
       "      <td>0.402863</td>\n",
       "    </tr>\n",
       "    <tr>\n",
       "      <th>23</th>\n",
       "      <td>0.869458</td>\n",
       "      <td>0.404907</td>\n",
       "      <td>0.846047</td>\n",
       "      <td>0.111591</td>\n",
       "    </tr>\n",
       "    <tr>\n",
       "      <th>24</th>\n",
       "      <td>0.404311</td>\n",
       "      <td>0.183634</td>\n",
       "      <td>0.699876</td>\n",
       "      <td>0.766860</td>\n",
       "    </tr>\n",
       "    <tr>\n",
       "      <th>25</th>\n",
       "      <td>0.520388</td>\n",
       "      <td>0.847739</td>\n",
       "      <td>0.031932</td>\n",
       "      <td>0.605283</td>\n",
       "    </tr>\n",
       "    <tr>\n",
       "      <th>26</th>\n",
       "      <td>0.591491</td>\n",
       "      <td>0.432797</td>\n",
       "      <td>0.432207</td>\n",
       "      <td>0.532711</td>\n",
       "    </tr>\n",
       "    <tr>\n",
       "      <th>27</th>\n",
       "      <td>0.199322</td>\n",
       "      <td>0.380973</td>\n",
       "      <td>0.169491</td>\n",
       "      <td>0.380070</td>\n",
       "    </tr>\n",
       "    <tr>\n",
       "      <th>28</th>\n",
       "      <td>0.812533</td>\n",
       "      <td>0.142822</td>\n",
       "      <td>0.588565</td>\n",
       "      <td>0.669739</td>\n",
       "    </tr>\n",
       "    <tr>\n",
       "      <th>29</th>\n",
       "      <td>0.120530</td>\n",
       "      <td>0.516553</td>\n",
       "      <td>0.220352</td>\n",
       "      <td>0.113971</td>\n",
       "    </tr>\n",
       "    <tr>\n",
       "      <th>30</th>\n",
       "      <td>0.065000</td>\n",
       "      <td>0.734401</td>\n",
       "      <td>0.189810</td>\n",
       "      <td>0.772409</td>\n",
       "    </tr>\n",
       "    <tr>\n",
       "      <th>31</th>\n",
       "      <td>0.603748</td>\n",
       "      <td>0.520995</td>\n",
       "      <td>0.599269</td>\n",
       "      <td>0.099241</td>\n",
       "    </tr>\n",
       "    <tr>\n",
       "      <th>32</th>\n",
       "      <td>0.292474</td>\n",
       "      <td>0.585516</td>\n",
       "      <td>0.458488</td>\n",
       "      <td>0.535202</td>\n",
       "    </tr>\n",
       "    <tr>\n",
       "      <th>33</th>\n",
       "      <td>0.430103</td>\n",
       "      <td>0.614385</td>\n",
       "      <td>0.110375</td>\n",
       "      <td>0.692047</td>\n",
       "    </tr>\n",
       "    <tr>\n",
       "      <th>34</th>\n",
       "      <td>0.592065</td>\n",
       "      <td>0.878455</td>\n",
       "      <td>0.345695</td>\n",
       "      <td>0.298198</td>\n",
       "    </tr>\n",
       "    <tr>\n",
       "      <th>35</th>\n",
       "      <td>0.226742</td>\n",
       "      <td>0.736897</td>\n",
       "      <td>0.193528</td>\n",
       "      <td>0.824968</td>\n",
       "    </tr>\n",
       "    <tr>\n",
       "      <th>36</th>\n",
       "      <td>0.152062</td>\n",
       "      <td>0.640920</td>\n",
       "      <td>0.216688</td>\n",
       "      <td>0.680735</td>\n",
       "    </tr>\n",
       "    <tr>\n",
       "      <th>37</th>\n",
       "      <td>0.979019</td>\n",
       "      <td>0.699546</td>\n",
       "      <td>0.424133</td>\n",
       "      <td>0.768216</td>\n",
       "    </tr>\n",
       "    <tr>\n",
       "      <th>38</th>\n",
       "      <td>0.293548</td>\n",
       "      <td>0.409940</td>\n",
       "      <td>0.997968</td>\n",
       "      <td>0.575927</td>\n",
       "    </tr>\n",
       "    <tr>\n",
       "      <th>39</th>\n",
       "      <td>0.170152</td>\n",
       "      <td>0.173212</td>\n",
       "      <td>0.050109</td>\n",
       "      <td>0.818056</td>\n",
       "    </tr>\n",
       "    <tr>\n",
       "      <th>40</th>\n",
       "      <td>0.868250</td>\n",
       "      <td>0.404320</td>\n",
       "      <td>0.729716</td>\n",
       "      <td>0.393934</td>\n",
       "    </tr>\n",
       "    <tr>\n",
       "      <th>41</th>\n",
       "      <td>0.171501</td>\n",
       "      <td>0.995102</td>\n",
       "      <td>0.795032</td>\n",
       "      <td>0.749284</td>\n",
       "    </tr>\n",
       "    <tr>\n",
       "      <th>42</th>\n",
       "      <td>0.934580</td>\n",
       "      <td>0.403187</td>\n",
       "      <td>0.349823</td>\n",
       "      <td>0.461387</td>\n",
       "    </tr>\n",
       "    <tr>\n",
       "      <th>43</th>\n",
       "      <td>0.346853</td>\n",
       "      <td>0.041111</td>\n",
       "      <td>0.385321</td>\n",
       "      <td>0.658437</td>\n",
       "    </tr>\n",
       "    <tr>\n",
       "      <th>44</th>\n",
       "      <td>0.518606</td>\n",
       "      <td>0.666114</td>\n",
       "      <td>0.003670</td>\n",
       "      <td>0.667439</td>\n",
       "    </tr>\n",
       "    <tr>\n",
       "      <th>45</th>\n",
       "      <td>0.539982</td>\n",
       "      <td>0.339338</td>\n",
       "      <td>0.247756</td>\n",
       "      <td>0.041993</td>\n",
       "    </tr>\n",
       "    <tr>\n",
       "      <th>46</th>\n",
       "      <td>0.461280</td>\n",
       "      <td>0.743770</td>\n",
       "      <td>0.761437</td>\n",
       "      <td>0.411390</td>\n",
       "    </tr>\n",
       "    <tr>\n",
       "      <th>47</th>\n",
       "      <td>0.344748</td>\n",
       "      <td>0.427858</td>\n",
       "      <td>0.709944</td>\n",
       "      <td>0.948270</td>\n",
       "    </tr>\n",
       "    <tr>\n",
       "      <th>48</th>\n",
       "      <td>0.003324</td>\n",
       "      <td>0.497087</td>\n",
       "      <td>0.421202</td>\n",
       "      <td>0.266752</td>\n",
       "    </tr>\n",
       "    <tr>\n",
       "      <th>49</th>\n",
       "      <td>0.224006</td>\n",
       "      <td>0.171653</td>\n",
       "      <td>0.640058</td>\n",
       "      <td>0.692345</td>\n",
       "    </tr>\n",
       "  </tbody>\n",
       "</table>\n",
       "</div>"
      ],
      "text/plain": [
       "           a         b         c         d\n",
       "0   0.829154  0.944474  0.245856  0.971671\n",
       "1   0.778199  0.255959  0.809233  0.597755\n",
       "2   0.726084  0.149831  0.425386  0.756467\n",
       "3   0.619844  0.137499  0.139120  0.809495\n",
       "4   0.802864  0.665924  0.646912  0.904858\n",
       "5   0.133176  0.050110  0.107310  0.282186\n",
       "6   0.607466  0.218037  0.053896  0.783852\n",
       "7   0.091018  0.823582  0.616312  0.660038\n",
       "8   0.091257  0.099431  0.196626  0.839516\n",
       "9   0.125040  0.010373  0.401213  0.531654\n",
       "10  0.488075  0.137965  0.973055  0.510535\n",
       "11  0.066729  0.212449  0.186181  0.047351\n",
       "12  0.418392  0.409734  0.821821  0.538474\n",
       "13  0.528656  0.125330  0.499113  0.671041\n",
       "14  0.872012  0.747897  0.758876  0.123317\n",
       "15  0.313626  0.022394  0.016802  0.239444\n",
       "16  0.773824  0.962036  0.419643  0.733273\n",
       "17  0.775023  0.291609  0.099711  0.868076\n",
       "18  0.627828  0.308965  0.676657  0.454132\n",
       "19  0.564760  0.554960  0.180032  0.726636\n",
       "20  0.968964  0.508576  0.488339  0.757822\n",
       "21  0.456740  0.875726  0.795516  0.472015\n",
       "22  0.036053  0.719664  0.657365  0.402863\n",
       "23  0.869458  0.404907  0.846047  0.111591\n",
       "24  0.404311  0.183634  0.699876  0.766860\n",
       "25  0.520388  0.847739  0.031932  0.605283\n",
       "26  0.591491  0.432797  0.432207  0.532711\n",
       "27  0.199322  0.380973  0.169491  0.380070\n",
       "28  0.812533  0.142822  0.588565  0.669739\n",
       "29  0.120530  0.516553  0.220352  0.113971\n",
       "30  0.065000  0.734401  0.189810  0.772409\n",
       "31  0.603748  0.520995  0.599269  0.099241\n",
       "32  0.292474  0.585516  0.458488  0.535202\n",
       "33  0.430103  0.614385  0.110375  0.692047\n",
       "34  0.592065  0.878455  0.345695  0.298198\n",
       "35  0.226742  0.736897  0.193528  0.824968\n",
       "36  0.152062  0.640920  0.216688  0.680735\n",
       "37  0.979019  0.699546  0.424133  0.768216\n",
       "38  0.293548  0.409940  0.997968  0.575927\n",
       "39  0.170152  0.173212  0.050109  0.818056\n",
       "40  0.868250  0.404320  0.729716  0.393934\n",
       "41  0.171501  0.995102  0.795032  0.749284\n",
       "42  0.934580  0.403187  0.349823  0.461387\n",
       "43  0.346853  0.041111  0.385321  0.658437\n",
       "44  0.518606  0.666114  0.003670  0.667439\n",
       "45  0.539982  0.339338  0.247756  0.041993\n",
       "46  0.461280  0.743770  0.761437  0.411390\n",
       "47  0.344748  0.427858  0.709944  0.948270\n",
       "48  0.003324  0.497087  0.421202  0.266752\n",
       "49  0.224006  0.171653  0.640058  0.692345"
      ]
     },
     "execution_count": 2,
     "metadata": {},
     "output_type": "execute_result"
    }
   ],
   "source": [
    "df = pd.DataFrame(np.random.rand(50,4), columns = ['a','b','c','d'])\n",
    "df"
   ]
  },
  {
   "cell_type": "code",
   "execution_count": 3,
   "id": "1c717495",
   "metadata": {},
   "outputs": [
    {
     "data": {
      "text/plain": [
       "<AxesSubplot:xlabel='a', ylabel='b'>"
      ]
     },
     "execution_count": 3,
     "metadata": {},
     "output_type": "execute_result"
    },
    {
     "data": {
      "image/png": "[encoded data removed]",
      "text/plain": [
       "<Figure size 432x288 with 1 Axes>"
      ]
     },
     "metadata": {
      "needs_background": "light"
     },
     "output_type": "display_data"
    }
   ],
   "source": [
    "df.plot.scatter(x='a',y='b', s=30, grid = True) # x,y값 반드시 지정"
   ]
  },
  {
   "cell_type": "code",
   "execution_count": 4,
   "id": "a7d34a7a",
   "metadata": {},
   "outputs": [
    {
     "data": {
      "text/plain": [
       "<AxesSubplot:xlabel='c', ylabel='d'>"
      ]
     },
     "execution_count": 4,
     "metadata": {},
     "output_type": "execute_result"
    },
    {
     "data": {
      "image/png": "[encoded data removed]",
      "text/plain": [
       "<Figure size 432x288 with 1 Axes>"
      ]
     },
     "metadata": {
      "needs_background": "light"
     },
     "output_type": "display_data"
    }
   ],
   "source": [
    "ax = df.plot.scatter(x='a', y='b', color = 'DarkRed', label = 'Group 1')\n",
    "df.plot.scatter(x='c',y='d',color = 'DarkGreen', label = 'Group 2', ax=ax)"
   ]
  },
  {
   "cell_type": "code",
   "execution_count": 5,
   "id": "8d04f79f",
   "metadata": {},
   "outputs": [
    {
     "data": {
      "text/plain": [
       "<AxesSubplot:xlabel='a', ylabel='b'>"
      ]
     },
     "execution_count": 5,
     "metadata": {},
     "output_type": "execute_result"
    },
    {
     "data": {
      "image/png": "[encoded data removed]",
      "text/plain": [
       "<Figure size 432x288 with 2 Axes>"
      ]
     },
     "metadata": {
      "needs_background": "light"
     },
     "output_type": "display_data"
    }
   ],
   "source": [
    "df.plot.scatter(x='a',y='b',c='c', s=100) # 3개의 축 생성, 비교"
   ]
  },
  {
   "cell_type": "code",
   "execution_count": 7,
   "id": "79116c99",
   "metadata": {},
   "outputs": [
    {
     "data": {
      "text/plain": [
       "<AxesSubplot:xlabel='a', ylabel='b'>"
      ]
     },
     "execution_count": 7,
     "metadata": {},
     "output_type": "execute_result"
    },
    {
     "data": {
      "image/png": "[encoded data removed]",
      "text/plain": [
       "<Figure size 432x288 with 1 Axes>"
      ]
     },
     "metadata": {
      "needs_background": "light"
     },
     "output_type": "display_data"
    }
   ],
   "source": [
    "df.plot.scatter(x='a',y='b',s=df['c'])"
   ]
  },
  {
   "cell_type": "code",
   "execution_count": 6,
   "id": "ccd0fecc",
   "metadata": {},
   "outputs": [
    {
     "data": {
      "text/plain": [
       "<AxesSubplot:xlabel='a', ylabel='b'>"
      ]
     },
     "execution_count": 6,
     "metadata": {},
     "output_type": "execute_result"
    },
    {
     "data": {
      "image/png": "[encoded data removed]",
      "text/plain": [
       "<Figure size 432x288 with 1 Axes>"
      ]
     },
     "metadata": {
      "needs_background": "light"
     },
     "output_type": "display_data"
    }
   ],
   "source": [
    "df.plot.scatter(x='a',y='b',s=df['c']*200)"
   ]
  },
  {
   "cell_type": "code",
   "execution_count": null,
   "id": "3db1881e",
   "metadata": {},
   "outputs": [],
   "source": []
  }
 ],
 "metadata": {
  "kernelspec": {
   "display_name": "Python 3",
   "language": "python",
   "name": "python3"
  },
  "language_info": {
   "codemirror_mode": {
    "name": "ipython",
    "version": 3
   },
   "file_extension": ".py",
   "mimetype": "text/x-python",
   "name": "python",
   "nbconvert_exporter": "python",
   "pygments_lexer": "ipython3",
   "version": "3.8.8"
  }
 },
 "nbformat": 4,
 "nbformat_minor": 5
}
