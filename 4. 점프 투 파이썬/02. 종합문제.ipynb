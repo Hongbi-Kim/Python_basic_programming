{
 "cells": [
  {
   "cell_type": "markdown",
   "id": "d8b99898",
   "metadata": {},
   "source": [
    "- https://wikidocs.net/17114\n",
    "- 답은 내가 쓴 것.\n",
    "- 뒷 부분 아직 공부 안함.(211223 기준)\n",
    "\n",
    "# 종합문제"
   ]
  },
  {
   "cell_type": "markdown",
   "id": "76f9d2d6",
   "metadata": {},
   "source": [
    "#### 1. 문자열 바꾸기\n",
    "다음과 같은 문자열이 있다.\n",
    "\n",
    "a:b:c:d\n",
    "\n",
    "문자열의 split와 join 함수를 사용하여 위 문자열을 다음과 같이 고치시오.\n",
    "\n",
    "a#b#c#d"
   ]
  },
  {
   "cell_type": "code",
   "execution_count": 2,
   "id": "5dcdf643",
   "metadata": {},
   "outputs": [
    {
     "data": {
      "text/plain": [
       "'a#b#c#d'"
      ]
     },
     "execution_count": 2,
     "metadata": {},
     "output_type": "execute_result"
    }
   ],
   "source": [
    "a = 'a:b:c:d'\n",
    "\"#\".join(a.split(':'))"
   ]
  },
  {
   "cell_type": "markdown",
   "id": "7e688494",
   "metadata": {},
   "source": [
    "#### 2. 딕셔너리 값 추출하기\n",
    "다음은 딕셔너리의 a에서 'C'라는 key에 해당하는 value를 출력하는 프로그램이다.\n",
    "\n",
    "    a = {'A':90, 'B':80}\n",
    "    a['C']\n",
    "        Traceback (most recent call last):\n",
    "          File \"<stdin>\", line 1, in <module>\n",
    "        KeyError: 'C'\n",
    "        \n",
    "a 딕셔너리에는 'C'라는 key가 없으므로 위와 같은 오류가 발생한다. 'C'에 해당하는 key 값이 없을 경우 오류 대신 70을 얻을 수 있도록 수정하시오."
   ]
  },
  {
   "cell_type": "code",
   "execution_count": 5,
   "id": "c4081608",
   "metadata": {},
   "outputs": [
    {
     "data": {
      "text/plain": [
       "70"
      ]
     },
     "execution_count": 5,
     "metadata": {},
     "output_type": "execute_result"
    }
   ],
   "source": [
    "a = {'A':90, 'B':80}\n",
    "a.get('C',70)"
   ]
  },
  {
   "cell_type": "markdown",
   "id": "ce66308e",
   "metadata": {},
   "source": [
    "#### 3. 리스트 총합 구하기\n",
    "다음은 A학급 학생의 점수를 나타내는 리스트이다. 다음 리스트에서 50점 이상 점수의 총합을 구하시오.\n",
    "\n",
    "A = [20, 55, 67, 82, 45, 33, 90, 87, 100, 25]"
   ]
  },
  {
   "cell_type": "code",
   "execution_count": 7,
   "id": "1b9dc9ed",
   "metadata": {},
   "outputs": [
    {
     "name": "stdout",
     "output_type": "stream",
     "text": [
      "481\n"
     ]
    }
   ],
   "source": [
    "A = [20, 55, 67, 82, 45, 33, 90, 87, 100, 25]\n",
    "result = 0\n",
    "while A:           # A 리스트에 값이 있는 동안\n",
    "    mark = A.pop() # A 리스트의 가장 마지막 항목을 하나씩 뽑아냄\n",
    "    if mark >= 50:\n",
    "        result += mark\n",
    "        \n",
    "print(result)"
   ]
  },
  {
   "cell_type": "markdown",
   "id": "20ef1baa",
   "metadata": {},
   "source": [
    "#### 4. 피보나치 함수\n",
    "첫 번째 항의 값이 0이고 두 번째 항의 값이 1일 때, 이후에 이어지는 항은 이전의 두 항을 더한 값으로 이루어지는 수열을 피보나치 수열이라고 한다.\n",
    "\n",
    "0, 1, 1, 2, 3, 5, 8, 13, ...\n",
    "\n",
    "입력을 정수 n으로 받았을 때, n 이하까지의 피보나치 수열을 출력하는 함수를 작성해 보자."
   ]
  },
  {
   "cell_type": "code",
   "execution_count": 8,
   "id": "b5121d8b",
   "metadata": {},
   "outputs": [
    {
     "name": "stdout",
     "output_type": "stream",
     "text": [
      "0\n",
      "1\n",
      "1\n",
      "2\n",
      "3\n",
      "5\n",
      "8\n",
      "13\n",
      "21\n",
      "34\n"
     ]
    }
   ],
   "source": [
    "def fib(n):\n",
    "    if n == 0 : return 0\n",
    "    if n == 1 : return 1\n",
    "    return fib(n-2) + fib(n-1)\n",
    "\n",
    "for i in range(10): #0~9까지의 피보나치 수열\n",
    "    print(fib(i))"
   ]
  },
  {
   "cell_type": "markdown",
   "id": "2bb21e90",
   "metadata": {},
   "source": [
    "#### 5. 숫자의 총합 구하기\n",
    "사용자로부터 다음과 같은 숫자를 입력받아 입력받은 숫자의 총합을 구하는 프로그램을 작성하시오. (단 숫자는 콤마로 구분하여 입력한다.)\n",
    "\n",
    "65,45,2,3,45,8"
   ]
  },
  {
   "cell_type": "code",
   "execution_count": 9,
   "id": "90fbbe37",
   "metadata": {},
   "outputs": [
    {
     "name": "stdout",
     "output_type": "stream",
     "text": [
      "숫자를 입력하세요 : 65,45,2,3,45,8\n",
      "168\n"
     ]
    }
   ],
   "source": [
    "user_input = input(\"숫자를 입력하세요 : \")\n",
    "numbers = user_input.split(\",\")\n",
    "total = 0\n",
    "for n in numbers:\n",
    "    total += int(n)\n",
    "    \n",
    "print(total)"
   ]
  },
  {
   "cell_type": "markdown",
   "id": "c5b3c7c2",
   "metadata": {},
   "source": [
    "#### 6. 한 줄 구구단\n",
    "사용자로부터 2~9의 숫자 중 하나를 입력받아 해당 숫자의 구구단을 한 줄로 출력하는 프로그램을 작성하시오.\n",
    "\n",
    "실행 예)\n",
    "\n",
    "구구단을 출력할 숫자를 입력하세요(2~9): 2\n",
    "\n",
    "2 4 6 8 10 12 14 16 18"
   ]
  },
  {
   "cell_type": "code",
   "execution_count": 11,
   "id": "bf240746",
   "metadata": {},
   "outputs": [
    {
     "name": "stdout",
     "output_type": "stream",
     "text": [
      "숫자를 하나 입력하세요 : (2~9)2\n",
      "2 4 6 8 10 12 14 16 18 "
     ]
    }
   ],
   "source": [
    "number = input(\"숫자를 하나 입력하세요 : (2~9)\")\n",
    "for i in range(1,10):\n",
    "    print(int(number)*i, end=\" \")"
   ]
  },
  {
   "cell_type": "markdown",
   "id": "6837c369",
   "metadata": {},
   "source": [
    "#### 7. 역순 저장\n",
    "다음과 같은 내용의 파일 abc.txt가 있다.\n",
    "\n",
    "    AAA\n",
    "    BBB\n",
    "    CCC\n",
    "    DDD\n",
    "    EEE\n",
    "이 파일의 내용을 다음과 같이 역순으로 바꾸어 저장하시오.\n",
    "\n",
    "    EEE\n",
    "    DDD\n",
    "    CCC\n",
    "    BBB\n",
    "    AAA"
   ]
  },
  {
   "cell_type": "code",
   "execution_count": 15,
   "id": "9bd483ea",
   "metadata": {},
   "outputs": [],
   "source": [
    "f = open('abc.txt', 'r')\n",
    "lines = f.readlines()    # 모든 라인을 읽음\n",
    "f.close()\n",
    "\n",
    "lines.reverse()          # 읽은 라인을 역순으로 정렬\n",
    "\n",
    "f = open('abc.txt', 'w')\n",
    "for line in lines:\n",
    "    line = line.strip()  # 포함되어 있는 줄 바꿈 문자 제거\n",
    "    f.write(line)\n",
    "    f.write('\\n')        # 줄 바꿈 문자 삽입\n",
    "f.close()"
   ]
  },
  {
   "cell_type": "markdown",
   "id": "eaaa66c1",
   "metadata": {},
   "source": [
    "#### 8. 평균값 구하기\n",
    "다음과 같이 총 10줄로 이루어진 sample.txt 파일이 있다. \n",
    "\n",
    "sample.txt 파일의 숫자 값을 모두 읽어 총합과 평균 값을 구한 후 평균 값을 result.txt 파일에 쓰는 프로그램을 작성하시오.\n",
    "\n",
    "    70\n",
    "    60\n",
    "    55\n",
    "    75\n",
    "    95\n",
    "    90\n",
    "    80\n",
    "    80\n",
    "    85\n",
    "    100"
   ]
  },
  {
   "cell_type": "code",
   "execution_count": 13,
   "id": "5616afe2",
   "metadata": {},
   "outputs": [],
   "source": [
    "f = open(\"sample.txt\")\n",
    "lines = f.readlines( )  # sample.txt를 줄 단위로 모두 읽는다.\n",
    "f.close( )\n",
    "\n",
    "total = 0\n",
    "for line in lines:\n",
    "    score = int(line)  # 줄에 적힌 점수를 숫자형으로 변환한다.\n",
    "    total += score\n",
    "average = total / len(lines)\n",
    "\n",
    "f = open(\"result.txt\", \"w\")\n",
    "f.write(str(average))\n",
    "f.close()"
   ]
  },
  {
   "cell_type": "markdown",
   "id": "5efabd21",
   "metadata": {},
   "source": [
    "#### 9. DashInsert 함수\n",
    "DashInsert 함수는 숫자로 구성된 문자열을 입력받은 뒤 문자열 안에서 홀수가 연속되면 두 수 사이에 - 를 추가하고, 짝수가 연속되면 * 를 추가하는 기능을 갖고 있다. DashInsert 함수를 완성하시오.\n",
    "\n",
    "- 입력 예시: 4546793\n",
    "- 출력 예시: 454*67-9-3"
   ]
  },
  {
   "cell_type": "code",
   "execution_count": 19,
   "id": "a5b8dbe9",
   "metadata": {},
   "outputs": [
    {
     "name": "stdout",
     "output_type": "stream",
     "text": [
      "454*67-9-3\n"
     ]
    }
   ],
   "source": [
    "data = \"4546793\"\n",
    "numbers = list(map(int,data))\n",
    "result = []\n",
    "\n",
    "for i, num in enumerate(numbers):\n",
    "    result.append(str(num))\n",
    "    if i < len(numbers)-1:                   # 다음 수가 있다면\n",
    "        is_odd = num % 2 == 1                # 현재 수가 홀수\n",
    "        is_next_odd = numbers[i+1] % 2 == 1  # 다음 수가 홀수\n",
    "        if is_odd and is_next_odd:           # 연속 홀수\n",
    "            result.append(\"-\")\n",
    "        elif not is_odd and not is_next_odd: # 연속 짝수\n",
    "            result.append(\"*\")\n",
    "\n",
    "print(\"\".join(result))"
   ]
  },
  {
   "cell_type": "markdown",
   "id": "3911957c",
   "metadata": {},
   "source": [
    "#### 10. 문자열 압축하기\n",
    "문자열을 입력받아 같은 문자가 연속적으로 반복되는 경우에 그 반복 횟수를 표시해 문자열을 압축하여 표시하시오.\n",
    "\n",
    "- 입력 예시: aaabbcccccca\n",
    "- 출력 예시: a3b2c6a1"
   ]
  },
  {
   "cell_type": "code",
   "execution_count": 20,
   "id": "494367e8",
   "metadata": {},
   "outputs": [
    {
     "name": "stdout",
     "output_type": "stream",
     "text": [
      "a3b2c6a1\n"
     ]
    }
   ],
   "source": [
    "def compress_string(s):\n",
    "    _c = \"\"\n",
    "    cnt = 0\n",
    "    result = \"\"\n",
    "    for c in s:\n",
    "        if c!=_c:\n",
    "            _c = c\n",
    "            if cnt: result += str(cnt)\n",
    "            result += c\n",
    "            cnt = 1\n",
    "        else:\n",
    "            cnt +=1\n",
    "    if cnt: result += str(cnt)\n",
    "    return result\n",
    "\n",
    "print(compress_string(\"aaabbcccccca\"))  # a3b2c6a1 출력"
   ]
  },
  {
   "cell_type": "markdown",
   "id": "27be64a2",
   "metadata": {},
   "source": [
    "#### 11. Duplicate Numbers\n",
    "0 ~ 9의 문자로 된 숫자를 입력받았을 때, 이 입력값이 0~9의 모든 숫자를 각각 한 번씩만 사용한 것인지 확인하는 함수를 작성하시오.\n",
    "\n",
    "- 입력 예시: 0123456789 01234 01234567890 6789012345 012322456789\n",
    "- 출력 예시: True False False True False"
   ]
  },
  {
   "cell_type": "code",
   "execution_count": 21,
   "id": "f2e096d8",
   "metadata": {},
   "outputs": [
    {
     "name": "stdout",
     "output_type": "stream",
     "text": [
      "True\n",
      "False\n",
      "False\n",
      "True\n",
      "False\n"
     ]
    }
   ],
   "source": [
    "def chkDupNum(s):\n",
    "    result = []\n",
    "    for num in s:\n",
    "        if num not in result:\n",
    "            result.append(num)\n",
    "        else:\n",
    "            return False\n",
    "    return len(result) == 10\n",
    "\n",
    "print(chkDupNum(\"0123456789\"))      # True 리턴\n",
    "print(chkDupNum(\"01234\"))           # False 리턴\n",
    "print(chkDupNum(\"01234567890\"))     # False 리턴\n",
    "print(chkDupNum(\"6789012345\"))      # True 리턴\n",
    "print(chkDupNum(\"012322456789\"))    # False 리턴"
   ]
  },
  {
   "cell_type": "markdown",
   "id": "e9ba00f5",
   "metadata": {},
   "source": [
    "#### 12. 문자열 형식으로 입력받은 모스 부호(dot:. dash:-)를 해독하여 영어 문장으로 출력하는 프로그램을 작성하시오.\n",
    "\n",
    "글자와 글자 사이는 공백 1개, 단어와 단어 사이는 공백 2개로 구분한다.\n",
    "\n",
    "예를 들어 다음 모스 부호는 \"HE SLEEPS EARLY\"로 해석해야 한다.\n",
    "\n",
    ".... .  ... .-.. . . .--. ...  . .- .-. .-.. -.--"
   ]
  },
  {
   "cell_type": "code",
   "execution_count": 22,
   "id": "10276cde",
   "metadata": {},
   "outputs": [
    {
     "name": "stdout",
     "output_type": "stream",
     "text": [
      "HE SLEEPS EARLY \n"
     ]
    }
   ],
   "source": [
    "dic = {\n",
    "    '.-':'A','-...':'B','-.-.':'C','-..':'D','.':'E','..-.':'F',\n",
    "    '--.':'G','....':'H','..':'I','.---':'J','-.-':'K','.-..':'L',\n",
    "    '--':'M','-.':'N','---':'O','.--.':'P','--.-':'Q','.-.':'R',\n",
    "    '...':'S','-':'T','..-':'U','...-':'V','.--':'W','-..-':'X',\n",
    "    '-.--':'Y','--..':'Z'\n",
    "}\n",
    "\n",
    "def morse(src):\n",
    "    result = []\n",
    "    for word in src.split(\"  \"):\n",
    "        for char in word.split(\" \"):\n",
    "            result.append(dic[char])\n",
    "        result.append(\" \")\n",
    "    return \"\".join(result)\n",
    "\n",
    "\n",
    "print(morse('.... .  ... .-.. . . .--. ...  . .- .-. .-.. -.--'))"
   ]
  },
  {
   "cell_type": "markdown",
   "id": "f6eab7a6",
   "metadata": {},
   "source": [
    "#### 13. 문자열 검색\n",
    "다음 코드의 결괏값은 무엇일까?\n",
    "\n",
    "    import re\n",
    "    p = re.compile(\"[a-z]+\")\n",
    "    m = p.search(\"5 python\")\n",
    "    m.start() + m.end()"
   ]
  },
  {
   "cell_type": "code",
   "execution_count": 23,
   "id": "d792937f",
   "metadata": {},
   "outputs": [
    {
     "name": "stdout",
     "output_type": "stream",
     "text": [
      "None\n",
      "<re.Match object; span=(0, 6), match='a....b'>\n",
      "None\n",
      "None\n"
     ]
    }
   ],
   "source": [
    "import re\n",
    "\n",
    "p = re.compile(\"a[.]{3,}b\")\n",
    "\n",
    "print(p.match(\"acccb\"))    # None\n",
    "print(p.match(\"a....b\"))   # 매치 객체 출력\n",
    "print(p.match(\"aaab\"))     # None\n",
    "print(p.match(\"a.cccb\"))   # None"
   ]
  },
  {
   "cell_type": "markdown",
   "id": "09567e1b",
   "metadata": {},
   "source": [
    "#### 14. 그루핑\n",
    "다음과 같은 문자열에서 휴대폰 번호 뒷자리인 숫자 4개를 ####로 바꾸는 프로그램을 정규식을 사용하여 작성하시오.\n",
    "\n",
    "    park 010-9999-9988\n",
    "    kim 010-9909-7789\n",
    "    lee 010-8789-7768"
   ]
  },
  {
   "cell_type": "code",
   "execution_count": 24,
   "id": "8c1974eb",
   "metadata": {},
   "outputs": [
    {
     "name": "stdout",
     "output_type": "stream",
     "text": [
      "\n",
      "park 010-9999-####\n",
      "kim 010-9909-####\n",
      "lee 010-8789-####\n",
      "\n"
     ]
    }
   ],
   "source": [
    "# 전화번호 패턴\n",
    "pat = re.compile(\"\\d{3}[-]\\d{4}[-]\\d{4}\")\n",
    "\n",
    "#이 전화번호 패턴 중 뒤의 숫자 4개를 변경할 것이므로 필요한 앞부분을 다음과 같이 그루핑한다.\n",
    "pat = re.compile(\"(\\d{3}[-]\\d{4})[-]\\d{4}\")\n",
    "\n",
    "import re\n",
    "\n",
    "s = \"\"\"\n",
    "park 010-9999-9988\n",
    "kim 010-9909-7789\n",
    "lee 010-8789-7768\n",
    "\"\"\"\n",
    "\n",
    "pat = re.compile(\"(\\d{3}[-]\\d{4})[-]\\d{4}\")\n",
    "result = pat.sub(\"\\g<1>-####\", s)\n",
    "\n",
    "print(result)"
   ]
  },
  {
   "cell_type": "markdown",
   "id": "b304894a",
   "metadata": {},
   "source": [
    "#### 15. 전방 탐색\n",
    "다음은 이메일 주소를 나타내는 정규식이다. 이 정규식은 park@naver.com, kim@daum.net, lee@myhome.co.kr 등과 매치된다. 긍정형 전방 탐색 기법을 사용하여 .com, .net이 아닌 이메일 주소는 제외시키는 정규식을 작성하시오.\n",
    "\n",
    ".*[@].*[.].*$"
   ]
  },
  {
   "cell_type": "code",
   "execution_count": 25,
   "id": "3b6474fa",
   "metadata": {},
   "outputs": [
    {
     "name": "stdout",
     "output_type": "stream",
     "text": [
      "<re.Match object; span=(0, 16), match='pahkey@gmail.com'>\n",
      "<re.Match object; span=(0, 12), match='kim@daum.net'>\n",
      "None\n"
     ]
    }
   ],
   "source": [
    "pat = re.compile(\".*[@].*[.](?=com$|net$).*$\")\n",
    "\n",
    "import re\n",
    "\n",
    "pat = re.compile(\".*[@].*[.](?=com$|net$).*$\")\n",
    "\n",
    "print(pat.match(\"pahkey@gmail.com\"))\n",
    "print(pat.match(\"kim@daum.net\"))\n",
    "print(pat.match(\"lee@myhome.co.kr\"))"
   ]
  }
 ],
 "metadata": {
  "kernelspec": {
   "display_name": "Python 3",
   "language": "python",
   "name": "python3"
  },
  "language_info": {
   "codemirror_mode": {
    "name": "ipython",
    "version": 3
   },
   "file_extension": ".py",
   "mimetype": "text/x-python",
   "name": "python",
   "nbconvert_exporter": "python",
   "pygments_lexer": "ipython3",
   "version": "3.8.8"
  }
 },
 "nbformat": 4,
 "nbformat_minor": 5
}
